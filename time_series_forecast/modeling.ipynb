{
 "cells": [
  {
   "cell_type": "code",
   "execution_count": null,
   "metadata": {},
   "outputs": [],
   "source": [
    "import matplotlib.pyplot as plt\n",
    "import numpy as np\n",
    "import pandas as pd\n",
    "import statsmodels.api as sm\n",
    "from statsmodels.tsa.stattools import adfuller, kpss\n",
    "%matplotlib inline"
   ]
  },
  {
   "cell_type": "markdown",
   "metadata": {},
   "source": [
    "### Data"
   ]
  },
  {
   "cell_type": "code",
   "execution_count": null,
   "metadata": {},
   "outputs": [],
   "source": [
    "df_orig = pd.read_csv('data/daily-minimum-temperatures.csv')\n",
    "df_orig['date'] =  pd.to_datetime(df_orig['date'], format='%Y-%m-%d')\n",
    "df = df_orig.set_index('date')\n",
    "df.sort_index(inplace=True)\n",
    "df"
   ]
  },
  {
   "cell_type": "code",
   "execution_count": null,
   "metadata": {},
   "outputs": [],
   "source": [
    "ax = df_orig.plot(x='date', y='temp', figsize=(12,6))\n",
    "xcoords = ['1981-01-01', '1982-01-01','1983-01-01', '1984-01-01', '1985-01-01', '1986-01-01',\n",
    "          '1987-01-01', '1988-01-01', '1989-01-01', '1990-01-01', '1991-01-01']\n",
    "for xc in xcoords:\n",
    "    plt.axvline(x=xc, color='black', linestyle='--')\n",
    "ax.set_ylabel('temperature')"
   ]
  },
  {
   "cell_type": "code",
   "execution_count": null,
   "metadata": {},
   "outputs": [],
   "source": [
    "fig, ax = plt.subplots(figsize=(20, 6))\n",
    "ax.plot(df, marker='.', linestyle='-', linewidth=0.5, label='Weekly')\n",
    "ax.plot(df.resample('M').mean(), marker='o', markersize=8, linestyle='-', label='Monthly Mean Resample')\n",
    "ax.set_ylabel('Orders')\n",
    "ax.legend();"
   ]
  },
  {
   "cell_type": "code",
   "execution_count": null,
   "metadata": {},
   "outputs": [],
   "source": [
    "fig, ax = plt.subplots(figsize=(20, 6))\n",
    "ax.plot(df, marker='.', linestyle='-', linewidth=0.5, label='Weekly')\n",
    "ax.plot(df.resample('Y').mean(), marker='o', markersize=8, linestyle='-', label='Monthly Mean Resample')\n",
    "ax.set_ylabel('Orders')\n",
    "ax.legend();"
   ]
  },
  {
   "cell_type": "markdown",
   "metadata": {},
   "source": [
    "### Decomposing the data"
   ]
  },
  {
   "cell_type": "code",
   "execution_count": null,
   "metadata": {},
   "outputs": [],
   "source": [
    "def seasonal_decompose (df):\n",
    "    decomposition = sm.tsa.seasonal_decompose(df, model='additive', freq=365)\n",
    "    \n",
    "    trend = decomposition.trend\n",
    "    seasonal = decomposition.seasonal\n",
    "    residual = decomposition.resid\n",
    "    \n",
    "    fig = decomposition.plot()\n",
    "    fig.set_size_inches(14, 7)\n",
    "    plt.show()\n",
    "    \n",
    "    return trend, seasonal, residual"
   ]
  },
  {
   "cell_type": "code",
   "execution_count": null,
   "metadata": {},
   "outputs": [],
   "source": [
    "seasonal_decompose(df)"
   ]
  },
  {
   "cell_type": "code",
   "execution_count": null,
   "metadata": {},
   "outputs": [],
   "source": [
    "def seasonal_decompose (df):\n",
    "    decomposition = sm.tsa.seasonal_decompose(df.asfreq('MS'), model='additive', freq=12)\n",
    "    \n",
    "    trend = decomposition.trend\n",
    "    seasonal = decomposition.seasonal\n",
    "    residual = decomposition.resid\n",
    "    \n",
    "    fig = decomposition.plot()\n",
    "    fig.set_size_inches(14, 7)\n",
    "    plt.show()\n",
    "    \n",
    "    return trend, seasonal, residual"
   ]
  },
  {
   "cell_type": "code",
   "execution_count": null,
   "metadata": {},
   "outputs": [],
   "source": [
    "seasonal_decompose(df)"
   ]
  },
  {
   "cell_type": "markdown",
   "metadata": {},
   "source": [
    "### Checking Stationarity"
   ]
  },
  {
   "cell_type": "markdown",
   "metadata": {},
   "source": [
    "#### Visualization: Graphing the rolling statistics"
   ]
  },
  {
   "cell_type": "code",
   "execution_count": null,
   "metadata": {},
   "outputs": [],
   "source": [
    "def analyze_stationarity(timeseries, title):\n",
    "    rolmean = pd.Series(timeseries).rolling(window=30).mean() \n",
    "    rolstd = pd.Series(timeseries).rolling(window=30).std()\n",
    "    \n",
    "    fig, ax = plt.subplots(figsize=(16, 4))\n",
    "    ax.plot(timeseries, label= title)\n",
    "    ax.plot(rolmean, label='rolling mean');\n",
    "    ax.plot(rolstd, label='rolling std (x10)');\n",
    "    ax.legend()"
   ]
  },
  {
   "cell_type": "code",
   "execution_count": null,
   "metadata": {},
   "outputs": [],
   "source": [
    "pd.options.display.float_format = '{:.8f}'.format\n",
    "analyze_stationarity(df['temp'], 'raw data')"
   ]
  },
  {
   "cell_type": "markdown",
   "metadata": {},
   "source": [
    "#### Augmented Dickey-Fuller Test\n",
    "\n",
    "https://www.statology.org/dickey-fuller-test-python/\n",
    "\n",
    "- H0: The time series is non-stationary. In other words, it has some time-dependent structure and does not have constant variance over time.\n",
    "- H1: The time series is stationary."
   ]
  },
  {
   "cell_type": "markdown",
   "metadata": {},
   "source": [
    "KPSS is another test for checking the stationarity of a time series. The null and alternate hypothesis for the KPSS test are opposite that of the ADF test.\n",
    "- H0: The process is trend stationary.\n",
    "- H1: The series has a unit root (series is not stationary)."
   ]
  },
  {
   "cell_type": "code",
   "execution_count": null,
   "metadata": {},
   "outputs": [],
   "source": [
    "def ADF_test(timeseries):\n",
    "    print(\"Results of Dickey-Fuller Test:\")\n",
    "    dftest = adfuller(timeseries, autolag=\"AIC\")\n",
    "    dfoutput = pd.Series(\n",
    "        dftest[0:4],\n",
    "        index=[\n",
    "            \"Test Statistic\",\n",
    "            \"p-value\",\n",
    "            \"Lags Used\",\n",
    "            \"Number of Observations Used\",\n",
    "        ],\n",
    "    )\n",
    "    for key, value in dftest[4].items():\n",
    "        dfoutput[\"Critical Value (%s)\" % key] = value\n",
    "    print(dfoutput)"
   ]
  },
  {
   "cell_type": "code",
   "execution_count": null,
   "metadata": {},
   "outputs": [],
   "source": [
    "ADF_test(df)"
   ]
  },
  {
   "cell_type": "code",
   "execution_count": null,
   "metadata": {},
   "outputs": [],
   "source": [
    "def KPSS_test(timeseries):\n",
    "    print(\"Results of KPSS Test:\")\n",
    "    kpsstest = kpss(timeseries.dropna(), regression=\"c\", nlags=\"auto\")    \n",
    "    kpss_output = pd.Series(\n",
    "        kpsstest[0:3], index=[\"Test Statistic\", \"p-value\", \"Lags Used\"]\n",
    "    )\n",
    "    for key, value in kpsstest[3].items():\n",
    "        kpss_output[\"Critical Value (%s)\" % key] = value\n",
    "    print(kpss_output)"
   ]
  },
  {
   "cell_type": "code",
   "execution_count": null,
   "metadata": {},
   "outputs": [],
   "source": [
    "KPSS_test(df)"
   ]
  },
  {
   "cell_type": "code",
   "execution_count": null,
   "metadata": {},
   "outputs": [],
   "source": [
    "# Checking stationarity with linear time-series\n",
    "y_test = df.copy()\n",
    "tmp = []\n",
    "for i in range(len(y_test)):\n",
    "    tmp.append(i)\n",
    "y_test['temp'] = tmp\n",
    "ADF_test(y_test)"
   ]
  },
  {
   "cell_type": "code",
   "execution_count": null,
   "metadata": {},
   "outputs": [],
   "source": [
    "# Checking stationarity with sinusoidal data\n",
    "y_test = df.copy()\n",
    "tmp = []\n",
    "for i in range(len(y_test)):\n",
    "    tmp.append(np.sin(np.pi/2 * i / 365 + 1))\n",
    "y_test['temp'] = tmp\n",
    "ADF_test(y_test)"
   ]
  },
  {
   "cell_type": "markdown",
   "metadata": {},
   "source": [
    "### Checking Trending"
   ]
  },
  {
   "cell_type": "markdown",
   "metadata": {},
   "source": [
    "#### Detrending"
   ]
  },
  {
   "cell_type": "code",
   "execution_count": null,
   "metadata": {},
   "outputs": [],
   "source": [
    "df_detrend = (df - df.rolling(window=365).mean()) / df.rolling(window=365).std()\n",
    "\n",
    "analyze_stationarity(df_detrend['temp'].dropna(), 'detrended data')\n",
    "ADF_test(df_detrend.dropna())"
   ]
  },
  {
   "cell_type": "markdown",
   "metadata": {},
   "source": [
    "#### Differencing"
   ]
  },
  {
   "cell_type": "code",
   "execution_count": null,
   "metadata": {},
   "outputs": [],
   "source": [
    "df_12lag =  df - df.shift(365)\n",
    "\n",
    "analyze_stationarity(df_12lag['temp'].dropna(), '12 lag differenced data')\n",
    "ADF_test(df_12lag.dropna())"
   ]
  },
  {
   "cell_type": "markdown",
   "metadata": {},
   "source": [
    "#### Detrending + Differencing"
   ]
  },
  {
   "cell_type": "code",
   "execution_count": null,
   "metadata": {},
   "outputs": [],
   "source": [
    "df_365lag_detrend =  df_detrend - df_detrend.shift(365)\n",
    "\n",
    "analyze_stationarity(df_365lag_detrend['temp'].dropna(), '12 lag differenced de-trended data')\n",
    "ADF_test(df_365lag_detrend.dropna())"
   ]
  },
  {
   "cell_type": "markdown",
   "metadata": {},
   "source": [
    "### Create Training & Testing Datasets"
   ]
  },
  {
   "cell_type": "code",
   "execution_count": null,
   "metadata": {},
   "outputs": [],
   "source": [
    "y = df['temp']\n",
    "y_to_train = y[:'1987-12-31']\n",
    "y_to_val = y['1988-01-01':]\n",
    "predict_date = len(y) - len(y[:'1987-12-31'])"
   ]
  },
  {
   "cell_type": "markdown",
   "metadata": {},
   "source": [
    "### Forecasting models"
   ]
  },
  {
   "cell_type": "markdown",
   "metadata": {},
   "source": [
    "#### Simple Exponential Smoothing (SES)\n",
    "\n",
    "Suitable for time series data without trend or seasonal components"
   ]
  },
  {
   "cell_type": "code",
   "execution_count": null,
   "metadata": {},
   "outputs": [],
   "source": [
    "import numpy as np\n",
    "from statsmodels.tsa.api import SimpleExpSmoothing \n",
    "\n",
    "def ses(y, y_to_train, y_to_test,smoothing_level,predict_date):\n",
    "    y.plot(marker='o', color='black', legend=True, figsize=(14, 7))\n",
    "\n",
    "    # specific smoothing level\n",
    "    fit1 = SimpleExpSmoothing(y_to_train).fit(smoothing_level=smoothing_level, optimized=False)\n",
    "    fcast1 = fit1.forecast(predict_date).rename(r'$\\alpha={}$'.format(smoothing_level))    \n",
    "    plt.plot(y_to_val.index, fcast1, marker='o', color='blue', label=f'smoothing_level={smoothing_level}')    \n",
    "    fit1.fittedvalues.plot(marker='o',  color='blue', label=f'smoothing_level={smoothing_level}')\n",
    "    mse1 = ((fcast1 - y_to_test.values) ** 2).mean()\n",
    "    print(f'The Root Mean Squared Error of our forecasts with smoothing level of {smoothing_level} is {round(np.sqrt(mse1), 2)}')\n",
    "    \n",
    "    # auto optimization\n",
    "    fit2 = SimpleExpSmoothing(y_to_train).fit()\n",
    "    fcast2 = fit2.forecast(predict_date).rename(r'$\\alpha=%s$'%fit2.model.params['smoothing_level'])\n",
    "    plt.plot(y_to_val.index, fcast2.values, marker='o', color='green', label=f'smoothing_level=auto')\n",
    "    fit2.fittedvalues.plot(marker='o', color='green', label=f'smoothing_level=auto')\n",
    "    \n",
    "    mse2 = ((fcast2 - y_to_test.values) ** 2).mean()\n",
    "    print(f'The Root Mean Squared Error of our forecasts with auto optimization is {round(np.sqrt(mse2), 2)}')\n",
    "    \n",
    "    plt.legend()\n",
    "    plt.show()"
   ]
  },
  {
   "cell_type": "code",
   "execution_count": null,
   "metadata": {},
   "outputs": [],
   "source": [
    "ses(y, y_to_train, y_to_val, 0.8, predict_date)"
   ]
  },
  {
   "cell_type": "markdown",
   "metadata": {},
   "source": [
    "#### Holt’s Linear Trend Method\n",
    "\n",
    "Suitable for time series data with a trend component but without a seasonal component"
   ]
  },
  {
   "cell_type": "code",
   "execution_count": null,
   "metadata": {},
   "outputs": [],
   "source": [
    "from statsmodels.tsa.api import Holt\n",
    "\n",
    "def holt(y,y_to_train,y_to_test,smoothing_level,smoothing_slope, predict_date):\n",
    "    y.plot(marker='o', color='black', legend=True, figsize=(14, 7))\n",
    "    \n",
    "    fit1 = Holt(y_to_train).fit(smoothing_level, smoothing_slope, optimized=False)\n",
    "    fcast1 = fit1.forecast(predict_date).rename(\"Holt's linear trend\")\n",
    "    mse1 = ((fcast1 - y_to_test.values) ** 2).mean()\n",
    "    print('The Root Mean Squared Error of Holt''s Linear trend {}'.format(round(np.sqrt(mse1), 2)))\n",
    "    \n",
    "    fit1.fittedvalues.plot(marker=\"o\", color='blue')\n",
    "    plt.plot(y_to_val.index, fcast1, color='blue', marker=\"o\")\n",
    "\n",
    "    plt.show()"
   ]
  },
  {
   "cell_type": "code",
   "execution_count": null,
   "metadata": {},
   "outputs": [],
   "source": [
    "holt(y, y_to_train, y_to_val, 0.6, 0.2, predict_date)"
   ]
  },
  {
   "cell_type": "markdown",
   "metadata": {},
   "source": [
    "#### Holt-Winters’ Seasonal Method\n",
    "\n",
    "Suitable for time series data with trend and/or seasonal components"
   ]
  },
  {
   "cell_type": "code",
   "execution_count": null,
   "metadata": {},
   "outputs": [],
   "source": [
    "from statsmodels.tsa.api import ExponentialSmoothing\n",
    "\n",
    "def holt_win_sea(y, y_to_train, y_to_test, seasonal_period, predict_date):\n",
    "    y.plot(marker='o', color='black', legend=True, figsize=(14, 7))\n",
    "    \n",
    "    fit1 = ExponentialSmoothing(y_to_train, seasonal_periods=seasonal_period, trend='add', seasonal='add').fit(use_boxcox=True)\n",
    "    fcast1 = fit1.forecast(predict_date).rename('Additive')\n",
    "    mse1 = ((fcast1 - y_to_test.values) ** 2).mean()\n",
    "    print('The Root Mean Squared Error of additive trend, additive seasonal of '+ \n",
    "          'period season_length={} and a Box-Cox transformation {}'.format(seasonal_period,round(np.sqrt(mse1), 2)))\n",
    "\n",
    "    fit2 = ExponentialSmoothing(y_to_train, seasonal_periods = seasonal_period, trend='add', seasonal='add', damped_trend=True).fit(use_boxcox=True)\n",
    "    fcast2 = fit2.forecast(predict_date).rename('Additive+damped')\n",
    "    mse2 = ((fcast2 - y_to_test.values) ** 2).mean()\n",
    "    print('The Root Mean Squared Error of additive damped trend, additive seasonal of '+ \n",
    "          'period season_length={} and a Box-Cox transformation {}'.format(seasonal_period,round(np.sqrt(mse2), 2)))\n",
    "\n",
    "    fit1.fittedvalues.plot(style='--', color='red')\n",
    "    plt.plot(y_to_val.index, fcast1, color='red', marker=\"o\")\n",
    "    fit2.fittedvalues.plot(style='--', color='green')\n",
    "    plt.plot(y_to_val.index, fcast2, color='green', marker=\"o\")\n",
    "\n",
    "    plt.show()"
   ]
  },
  {
   "cell_type": "code",
   "execution_count": null,
   "metadata": {},
   "outputs": [],
   "source": [
    "y_to_train_pos = y_to_train.copy()\n",
    "y_to_train_pos[y_to_train_pos.values == 0] = 1\n",
    "y_to_val_pos = y_to_val.copy()\n",
    "y_to_val_pos[y_to_val_pos.values == 0] = 1\n",
    "\n",
    "holt_win_sea(y, y_to_train_pos, y_to_val_pos, 365, predict_date)"
   ]
  },
  {
   "cell_type": "code",
   "execution_count": null,
   "metadata": {},
   "outputs": [],
   "source": []
  }
 ],
 "metadata": {
  "accelerator": "GPU",
  "colab": {
   "collapsed_sections": [],
   "name": "DEAP_main",
   "provenance": [],
   "toc_visible": true
  },
  "kernelspec": {
   "display_name": "Python 3",
   "language": "python",
   "name": "python3"
  },
  "language_info": {
   "codemirror_mode": {
    "name": "ipython",
    "version": 3
   },
   "file_extension": ".py",
   "mimetype": "text/x-python",
   "name": "python",
   "nbconvert_exporter": "python",
   "pygments_lexer": "ipython3",
   "version": "3.8.8"
  }
 },
 "nbformat": 4,
 "nbformat_minor": 1
}
