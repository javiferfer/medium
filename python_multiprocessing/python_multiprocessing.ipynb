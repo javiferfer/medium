{
 "cells": [
  {
   "cell_type": "markdown",
   "id": "2c743a1f",
   "metadata": {},
   "source": [
    "https://superfastpython.com/number-of-cpus-python/"
   ]
  },
  {
   "cell_type": "code",
   "execution_count": 1,
   "id": "50ad80c4",
   "metadata": {},
   "outputs": [],
   "source": [
    "import multiprocessing\n",
    "\n",
    "multiprocessing.cpu_count()"
   ]
  },
  {
   "cell_type": "markdown",
   "id": "e753837a",
   "metadata": {},
   "source": [
    "https://stackoverflow.com/questions/38194951/multiprocessing-cpu-count-returning-wrong-number-of-cores\n",
    "\n",
    "You have 4 physical cores, but 8 logical processors. For example, you may have a processor with hyper-threading."
   ]
  },
  {
   "cell_type": "code",
   "execution_count": 2,
   "id": "4e426152",
   "metadata": {},
   "outputs": [
    {
     "name": "stdout",
     "output_type": "stream",
     "text": [
      "[0, 1, 4, 9, 16, 25, 36, 49, 64, 81]\n",
      "CPU times: user 0 ns, sys: 3.79 ms, total: 3.79 ms\n",
      "Wall time: 10 s\n"
     ]
    }
   ],
   "source": [
    "%%time\n",
    "import time\n",
    "\n",
    "# Define the function to be executed in parallel\n",
    "def my_function(x):\n",
    "    time.sleep(1)  # simulate a long-running task\n",
    "    return x ** 2\n",
    "\n",
    "# Generate some input data\n",
    "input_data = range(10)\n",
    "\n",
    "# Execute the function in parallel using the pool\n",
    "results =  [my_function(x) for x in input_data]\n",
    "\n",
    "# Print the results\n",
    "print(results)"
   ]
  },
  {
   "cell_type": "code",
   "execution_count": 3,
   "id": "11ad40b8",
   "metadata": {},
   "outputs": [],
   "source": [
    "no_workers = 4"
   ]
  },
  {
   "cell_type": "markdown",
   "id": "8b064b34",
   "metadata": {},
   "source": [
    "### Multiprocessing"
   ]
  },
  {
   "cell_type": "code",
   "execution_count": 4,
   "id": "99f291e1",
   "metadata": {},
   "outputs": [
    {
     "name": "stdout",
     "output_type": "stream",
     "text": [
      "[0, 1, 4, 9, 16, 25, 36, 49, 64, 81]\n",
      "CPU times: user 8.14 ms, sys: 8.86 ms, total: 17 ms\n",
      "Wall time: 3.04 s\n"
     ]
    }
   ],
   "source": [
    "%%time\n",
    "import multiprocessing as mp\n",
    "import time\n",
    "\n",
    "# Define the function to be executed in parallel\n",
    "def my_function(x):\n",
    "    time.sleep(1)  # simulate a long-running task\n",
    "    return x ** 2\n",
    "\n",
    "# Generate some input data\n",
    "input_data = range(10)\n",
    "\n",
    "# Create a multiprocessing pool\n",
    "pool = mp.Pool(processes=no_workers)\n",
    "\n",
    "# Execute the function in parallel using the pool\n",
    "results = pool.map(my_function, input_data)\n",
    "\n",
    "# Print the results\n",
    "print(results)"
   ]
  },
  {
   "cell_type": "markdown",
   "id": "e1eaf164",
   "metadata": {},
   "source": [
    "### concurrent.futures"
   ]
  },
  {
   "cell_type": "code",
   "execution_count": 5,
   "id": "90ae67af",
   "metadata": {},
   "outputs": [
    {
     "name": "stdout",
     "output_type": "stream",
     "text": [
      "[0, 1, 4, 9, 16, 25, 36, 49, 64, 81]\n",
      "CPU times: user 13.3 ms, sys: 11 ms, total: 24.3 ms\n",
      "Wall time: 3.03 s\n"
     ]
    }
   ],
   "source": [
    "%%time\n",
    "import concurrent.futures\n",
    "import time\n",
    "\n",
    "# Define the function to be executed in parallel\n",
    "def my_function(x):\n",
    "    time.sleep(1)  # simulate a long-running task\n",
    "    return x ** 2\n",
    "\n",
    "# Generate some input data\n",
    "input_data = range(10)\n",
    "\n",
    "# Create a process pool\n",
    "with concurrent.futures.ProcessPoolExecutor(max_workers=no_workers) as executor:\n",
    "    # Execute the function in parallel using the executor\n",
    "    results = list(executor.map(my_function, input_data))\n",
    "\n",
    "# Print the results\n",
    "print(results)"
   ]
  },
  {
   "cell_type": "markdown",
   "id": "d3c3a821",
   "metadata": {},
   "source": [
    "### joblib"
   ]
  },
  {
   "cell_type": "code",
   "execution_count": 6,
   "id": "aa067695",
   "metadata": {},
   "outputs": [
    {
     "name": "stdout",
     "output_type": "stream",
     "text": [
      "[0, 1, 4, 9, 16, 25, 36, 49, 64, 81]\n",
      "CPU times: user 252 ms, sys: 579 ms, total: 831 ms\n",
      "Wall time: 3.45 s\n"
     ]
    }
   ],
   "source": [
    "%%time\n",
    "from joblib import Parallel, delayed\n",
    "import time\n",
    "\n",
    "# Define the function to be executed in parallel\n",
    "def my_function(x):\n",
    "    time.sleep(1) # simulate a long-running task\n",
    "    return x ** 2\n",
    "\n",
    "# Generate some input data\n",
    "input_data = range(10)\n",
    "\n",
    "# Execute the function in parallel using joblib\n",
    "results = Parallel(n_jobs=no_workers)(delayed(my_function)(i) for i in input_data)\n",
    "\n",
    "# Print the results\n",
    "print(results)"
   ]
  },
  {
   "cell_type": "markdown",
   "id": "ab3e0ecc",
   "metadata": {},
   "source": [
    "### pathos"
   ]
  },
  {
   "cell_type": "code",
   "execution_count": 7,
   "id": "a3f34a4c",
   "metadata": {},
   "outputs": [
    {
     "name": "stdout",
     "output_type": "stream",
     "text": [
      "[0, 1, 4, 9, 16, 25, 36, 49, 64, 81]\n",
      "CPU times: user 22.4 ms, sys: 14.5 ms, total: 36.8 ms\n",
      "Wall time: 3.04 s\n"
     ]
    }
   ],
   "source": [
    "%%time\n",
    "from pathos.multiprocessing import ProcessingPool\n",
    "import time\n",
    "\n",
    "# Define the function to be executed in parallel\n",
    "def my_function(x):\n",
    "    time.sleep(1)  # simulate a long-running task\n",
    "    return x ** 2\n",
    "\n",
    "# Generate some input data\n",
    "input_data = range(10)\n",
    "\n",
    "# Create a process pool\n",
    "with ProcessingPool(no_workers) as pool:\n",
    "    # Execute the function in parallel using the pool\n",
    "    results = pool.map(my_function, input_data)\n",
    "\n",
    "# Print the results\n",
    "print(results)"
   ]
  },
  {
   "cell_type": "markdown",
   "id": "e273d0ca",
   "metadata": {},
   "source": [
    "### dask"
   ]
  },
  {
   "cell_type": "code",
   "execution_count": 8,
   "id": "32d9ae2f",
   "metadata": {},
   "outputs": [
    {
     "name": "stdout",
     "output_type": "stream",
     "text": [
      "[ 0  1  4  9 16 25 36 49 64 81]\n",
      "CPU times: user 323 ms, sys: 588 ms, total: 911 ms\n",
      "Wall time: 3.2 s\n"
     ]
    }
   ],
   "source": [
    "%%time\n",
    "import dask.array as da\n",
    "import time\n",
    "\n",
    "# Generate some input data\n",
    "input_data = da.arange(10, chunks=3)\n",
    "\n",
    "# Define the function to be executed in parallel\n",
    "def my_function(x):\n",
    "    time.sleep(1)  # simulate a long-running task\n",
    "    return x ** 2\n",
    "\n",
    "# Apply the function in parallel to the input data using Dask\n",
    "result_data = input_data.map_blocks(my_function)\n",
    "\n",
    "# Compute the result\n",
    "results = result_data.compute(num_workers=no_workers)\n",
    "\n",
    "# Print the results\n",
    "print(results)"
   ]
  },
  {
   "cell_type": "code",
   "execution_count": null,
   "id": "63b80269",
   "metadata": {},
   "outputs": [],
   "source": []
  }
 ],
 "metadata": {
  "kernelspec": {
   "display_name": "Python 3 (ipykernel)",
   "language": "python",
   "name": "python3"
  },
  "language_info": {
   "codemirror_mode": {
    "name": "ipython",
    "version": 3
   },
   "file_extension": ".py",
   "mimetype": "text/x-python",
   "name": "python",
   "nbconvert_exporter": "python",
   "pygments_lexer": "ipython3",
   "version": "3.9.13"
  }
 },
 "nbformat": 4,
 "nbformat_minor": 5
}
