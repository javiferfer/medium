{
 "cells": [
  {
   "cell_type": "markdown",
   "metadata": {},
   "source": [
    "https://rico-schmidt.name/pymotw-3/socket/tcp.html"
   ]
  },
  {
   "cell_type": "code",
   "execution_count": null,
   "metadata": {},
   "outputs": [],
   "source": [
    "import socket\n",
    "import time\n",
    "from datetime import datetime"
   ]
  },
  {
   "cell_type": "code",
   "execution_count": null,
   "metadata": {},
   "outputs": [],
   "source": [
    "# Create a TCP/IP socket\n",
    "sock = socket.socket(socket.AF_INET, socket.SOCK_STREAM)\n",
    "\n",
    "# Connect the socket to the port where the serfaver is listening\n",
    "server_address = ('localhost', 5051)\n",
    "print(\"Current Time =\", datetime.now().strftime(\"%H:%M:%S\"))\n",
    "print('connecting to {} port {}'.format(*server_address))\n",
    "sock.connect(server_address)\n",
    "\n",
    "# Create data\n",
    "message = []\n",
    "message.append(1.0)\n",
    "message.append(10.0)\n",
    "while message[0] < 3:\n",
    "    print(\"Current Time =\", datetime.now().strftime(\"%H:%M:%S\"))\n",
    "    print(f'Client first number: {message[0]}, Client second number: {message[1]}')\n",
    "\n",
    "    # Send data to server\n",
    "    sock.sendall(bytes(str(message), 'utf8'))\n",
    "\n",
    "    # Get data from server\n",
    "    data = sock.recv(1024)\n",
    "    response = str(data, 'utf8')\n",
    "    response = response[1:-1]\n",
    "    response = response.split(',')\n",
    "    print(\"Current Time =\", datetime.now().strftime(\"%H:%M:%S\"))\n",
    "    print(f'Server first number: {response[0]}, Server second number: {response[1]}\\n')\n",
    "    time.sleep(1.0)\n",
    "\n",
    "    # New data\n",
    "    message = []\n",
    "    message.append(float(response[0]))\n",
    "    message.append(float(response[1]))\n",
    "    \n",
    "print(\"Current Time =\", datetime.now().strftime(\"%H:%M:%S\"))\n",
    "print('closing socket')\n",
    "sock.sendall(bytes(str('closing socket'), 'utf8'))\n",
    "sock.close()"
   ]
  },
  {
   "cell_type": "code",
   "execution_count": null,
   "metadata": {},
   "outputs": [],
   "source": []
  }
 ],
 "metadata": {
  "accelerator": "GPU",
  "colab": {
   "collapsed_sections": [],
   "name": "DEAP_main",
   "provenance": [],
   "toc_visible": true
  },
  "kernelspec": {
   "display_name": "Python 3",
   "language": "python",
   "name": "python3"
  },
  "language_info": {
   "codemirror_mode": {
    "name": "ipython",
    "version": 3
   },
   "file_extension": ".py",
   "mimetype": "text/x-python",
   "name": "python",
   "nbconvert_exporter": "python",
   "pygments_lexer": "ipython3",
   "version": "3.8.8"
  },
  "toc": {
   "base_numbering": 1,
   "nav_menu": {},
   "number_sections": true,
   "sideBar": true,
   "skip_h1_title": false,
   "title_cell": "Table of Contents",
   "title_sidebar": "Contents",
   "toc_cell": false,
   "toc_position": {},
   "toc_section_display": true,
   "toc_window_display": false
  }
 },
 "nbformat": 4,
 "nbformat_minor": 1
}
