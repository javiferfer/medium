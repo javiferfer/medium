{
 "cells": [
  {
   "cell_type": "code",
   "execution_count": null,
   "metadata": {},
   "outputs": [],
   "source": [
    "import socket\n",
    "import time\n",
    "from datetime import datetime"
   ]
  },
  {
   "cell_type": "code",
   "execution_count": null,
   "metadata": {},
   "outputs": [],
   "source": [
    "def sum_numbers(first_num, second_num):\n",
    "    return first_num + second_num\n",
    "\n",
    "# Create a TCP/IP socket\n",
    "sock = socket.socket(socket.AF_INET, socket.SOCK_STREAM)\n",
    "sock.setsockopt(socket.SOL_SOCKET, socket.SO_REUSEADDR, 1)\n",
    "\n",
    "# Bind the socket to the port\n",
    "server_address = ('localhost', 5051)\n",
    "print(\"Current Time =\", datetime.now().strftime(\"%H:%M:%S\"))\n",
    "print('starting up on {} port {}'.format(*server_address))\n",
    "sock.bind(server_address)\n",
    "\n",
    "# Listen for incoming connections\n",
    "sock.listen(1)\n",
    "\n",
    "while True:\n",
    "    # Wait for a connection\n",
    "    print(\"Current Time =\", datetime.now().strftime(\"%H:%M:%S\"))\n",
    "    print('waiting for a connection')\n",
    "    connection, client_address = sock.accept()\n",
    "\n",
    "    print(\"Current Time =\", datetime.now().strftime(\"%H:%M:%S\"))\n",
    "    print('connection from', client_address)\n",
    "    while True:\n",
    "        # Receive data from client\n",
    "        data = connection.recv(1024)\n",
    "        response = str(data, 'utf8')\n",
    "\n",
    "        # Stop the connexion\n",
    "        if response == 'closing socket':\n",
    "            connection.close()\n",
    "            break\n",
    "\n",
    "        # Implement any operation\n",
    "        response = response[1:-1]\n",
    "        response = response.split(',')\n",
    "        first_num = sum_numbers(float(response[0]), 1)\n",
    "        second_num = sum_numbers(float(response[1]), 1)\n",
    "        print(\"Current Time =\", datetime.now().strftime(\"%H:%M:%S\"))\n",
    "        print(f'Client first number: {float(response[0])}, Client second number: {float(response[1])}')\n",
    "        print(f'Server first number: {first_num}, Server second number: {second_num}\\n')\n",
    "        time.sleep(1.0)\n",
    "\n",
    "        # Send data to client\n",
    "        answer_to_client = []\n",
    "        answer_to_client.append(first_num)\n",
    "        answer_to_client.append(second_num)\n",
    "        connection.sendall(bytes(str(answer_to_client), 'utf8'))"
   ]
  },
  {
   "cell_type": "code",
   "execution_count": null,
   "metadata": {},
   "outputs": [],
   "source": []
  }
 ],
 "metadata": {
  "kernelspec": {
   "display_name": "Python 3",
   "language": "python",
   "name": "python3"
  },
  "language_info": {
   "codemirror_mode": {
    "name": "ipython",
    "version": 3
   },
   "file_extension": ".py",
   "mimetype": "text/x-python",
   "name": "python",
   "nbconvert_exporter": "python",
   "pygments_lexer": "ipython3",
   "version": "3.8.8"
  },
  "toc": {
   "base_numbering": 1,
   "nav_menu": {},
   "number_sections": true,
   "sideBar": true,
   "skip_h1_title": false,
   "title_cell": "Table of Contents",
   "title_sidebar": "Contents",
   "toc_cell": false,
   "toc_position": {},
   "toc_section_display": true,
   "toc_window_display": false
  }
 },
 "nbformat": 4,
 "nbformat_minor": 2
}
