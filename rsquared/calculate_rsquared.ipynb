{
 "cells": [
  {
   "cell_type": "code",
   "execution_count": 1,
   "id": "ae32e713",
   "metadata": {},
   "outputs": [],
   "source": [
    "import matplotlib.pyplot as plt\n",
    "import numpy as np\n",
    "from sklearn.linear_model import LinearRegression\n",
    "from sklearn.metrics import r2_score"
   ]
  },
  {
   "cell_type": "markdown",
   "id": "bab8dee2",
   "metadata": {},
   "source": [
    "$R^2 = \\frac{SSE}{SST} = 1 - \\frac{SSR}{SST}$\n",
    "\n",
    "where:\n",
    "- SSE: Sum of Squared Explained which measures the unexplained variation in the dependent variable (the error).\n",
    "- SSR: Sum of Squared Residuals which measures the variation in the dependent variable explained by the regression model.\n",
    "- SST: Total Sum of Squares which measures the total variation in the dependent variable."
   ]
  },
  {
   "cell_type": "code",
   "execution_count": 2,
   "id": "5bbbd2a9",
   "metadata": {},
   "outputs": [],
   "source": [
    "def calculate_r2(y_true, y_pred):\n",
    "    \"\"\"Calculates the R² value manually.\n",
    "\n",
    "    Args:\n",
    "        y_true: True values of the dependent variable.\n",
    "        y_pred: Predicted values of the dependent variable.\n",
    "\n",
    "    Returns:\n",
    "        The R² value.\n",
    "    \"\"\"\n",
    "\n",
    "    # Calculate mean of true values\n",
    "    y_mean = np.mean(y_true)\n",
    "\n",
    "    # Calculate SSR and SST\n",
    "    SSR = np.sum((y_true - y_pred) ** 2)\n",
    "    SST = np.sum((y_true - y_mean) ** 2)\n",
    "\n",
    "    # Calculate R²\n",
    "    r2 = 1 - SSR / SST\n",
    "    return r2"
   ]
  },
  {
   "cell_type": "markdown",
   "id": "fe0ba5ff",
   "metadata": {},
   "source": [
    "$Adjusted R^2 = 1 - \\frac{(1 - R²)(N -1)}{N - p -1}$\n",
    "\n",
    "where:\n",
    "- R²: Sample R-Squared\n",
    "- N: Total sample size\n",
    "- p: Number of independent variable"
   ]
  },
  {
   "cell_type": "code",
   "execution_count": 3,
   "id": "9c374163",
   "metadata": {},
   "outputs": [],
   "source": [
    "def calculate_adjusted_r2(y_true, y_pred, X):\n",
    "    \"\"\"Calculates the adjusted R-squared score.\n",
    "\n",
    "    Args:\n",
    "        y_true: True values of the dependent variable.\n",
    "        y_pred: Predicted values of the dependent variable.\n",
    "        X: Independent variables.\n",
    "\n",
    "    Returns:\n",
    "        The adjusted R-squared score.\n",
    "    \"\"\"\n",
    "\n",
    "    r2 = calculate_r2(y_true, y_pred)\n",
    "    n = len(y_true)\n",
    "    p = X.shape[1]\n",
    "    adjusted_r2 = 1 - (1 - r2) * (n - 1) / (n - p - 1)\n",
    "\n",
    "    return adjusted_r2"
   ]
  },
  {
   "cell_type": "markdown",
   "id": "3f317839",
   "metadata": {},
   "source": [
    "## Univariate"
   ]
  },
  {
   "cell_type": "code",
   "execution_count": 4,
   "id": "977530a6",
   "metadata": {},
   "outputs": [
    {
     "name": "stdout",
     "output_type": "stream",
     "text": [
      "(5, 1)\n",
      "(5,)\n"
     ]
    }
   ],
   "source": [
    "X = np.array((1, 2, 3, 4, 3.5))\n",
    "y = np.array((3, 1, 4, 5, 4))\n",
    "\n",
    "X = X.reshape((-1, 1))\n",
    "\n",
    "print(X.shape)\n",
    "print(y.shape)"
   ]
  },
  {
   "cell_type": "code",
   "execution_count": 5,
   "id": "ba604018",
   "metadata": {},
   "outputs": [
    {
     "name": "stdout",
     "output_type": "stream",
     "text": [
      "0.8793103448275861 1.0258620689655173\n"
     ]
    },
    {
     "data": {
      "image/png": "[encoded data removed]",
      "text/plain": [
       "<Figure size 640x480 with 1 Axes>"
      ]
     },
     "metadata": {},
     "output_type": "display_data"
    }
   ],
   "source": [
    "model = LinearRegression().fit(X, y)\n",
    "\n",
    "fig = plt.figure()\n",
    "ax = fig.add_subplot()\n",
    "plt.scatter(X, y, color='g')\n",
    "plt.plot(X, model.predict(X),color='k')\n",
    "ax.text(1, 4, r'LR equation: $Y = a + bX$', fontsize=10)\n",
    "\n",
    "print(model.coef_[0], model.intercept_)"
   ]
  },
  {
   "cell_type": "code",
   "execution_count": 6,
   "id": "1dcb336e",
   "metadata": {},
   "outputs": [
    {
     "data": {
      "text/plain": [
       "{'fit_intercept': True,\n",
       " 'normalize': 'deprecated',\n",
       " 'copy_X': True,\n",
       " 'n_jobs': None,\n",
       " 'positive': False,\n",
       " 'n_features_in_': 1,\n",
       " 'coef_': array([0.87931034]),\n",
       " '_residues': 4.715517241379311,\n",
       " 'rank_': 1,\n",
       " 'singular_': array([2.40831892]),\n",
       " 'intercept_': 1.0258620689655173}"
      ]
     },
     "execution_count": 6,
     "metadata": {},
     "output_type": "execute_result"
    }
   ],
   "source": [
    "model.__dict__"
   ]
  },
  {
   "cell_type": "code",
   "execution_count": 7,
   "id": "c9bdef79",
   "metadata": {},
   "outputs": [
    {
     "name": "stdout",
     "output_type": "stream",
     "text": [
      "Coefficient of determination (R²): 0.4874437781109444\n"
     ]
    }
   ],
   "source": [
    "y_pred = model.predict(X)\n",
    "r2 = r2_score(y, y_pred)\n",
    "print(\"Coefficient of determination (R²):\", r2)"
   ]
  },
  {
   "cell_type": "code",
   "execution_count": 8,
   "id": "899c9a3f",
   "metadata": {},
   "outputs": [
    {
     "name": "stdout",
     "output_type": "stream",
     "text": [
      "R² calculated manually: 0.4874437781109444\n",
      "Adjusted R² calculated manually: 0.3165917041479259\n"
     ]
    }
   ],
   "source": [
    "# Make predictions\n",
    "y_pred = model.predict(X)\n",
    "\n",
    "# Calculate R² manually\n",
    "r2_manual = calculate_r2(y, y_pred)\n",
    "print(\"R² calculated manually:\", r2_manual)\n",
    "\n",
    "# Calculate Adjusted R² manually\n",
    "r2_manual = calculate_adjusted_r2(y, y_pred, X)\n",
    "print(\"Adjusted R² calculated manually:\", r2_manual)"
   ]
  },
  {
   "cell_type": "markdown",
   "id": "7fe1f6cd",
   "metadata": {},
   "source": [
    "## Multivariate"
   ]
  },
  {
   "cell_type": "code",
   "execution_count": 9,
   "id": "fb7ab405",
   "metadata": {},
   "outputs": [],
   "source": [
    "X = np.array([[1, 2], [3, 3], [3, 5], [4, 5], [5, 6]])\n",
    "y = np.array([3, 5, 7, 9, 11])"
   ]
  },
  {
   "cell_type": "code",
   "execution_count": 10,
   "id": "89fa8d33",
   "metadata": {},
   "outputs": [
    {
     "name": "stdout",
     "output_type": "stream",
     "text": [
      "(5, 2)\n",
      "(5,)\n"
     ]
    }
   ],
   "source": [
    "print(X.shape)\n",
    "print(y.shape)"
   ]
  },
  {
   "cell_type": "code",
   "execution_count": 11,
   "id": "2516e47b",
   "metadata": {},
   "outputs": [],
   "source": [
    "model = LinearRegression().fit(X, y)"
   ]
  },
  {
   "cell_type": "code",
   "execution_count": 12,
   "id": "a6cd4082",
   "metadata": {},
   "outputs": [
    {
     "data": {
      "text/plain": [
       "{'fit_intercept': True,\n",
       " 'normalize': 'deprecated',\n",
       " 'copy_X': True,\n",
       " 'n_jobs': None,\n",
       " 'positive': False,\n",
       " 'n_features_in_': 2,\n",
       " 'coef_': array([1.04545455, 1.        ]),\n",
       " '_residues': 1.1818181818181819,\n",
       " 'rank_': 2,\n",
       " 'singular_': array([4.31933281, 0.97126931]),\n",
       " 'intercept_': -0.5454545454545485}"
      ]
     },
     "execution_count": 12,
     "metadata": {},
     "output_type": "execute_result"
    }
   ],
   "source": [
    "model.__dict__"
   ]
  },
  {
   "cell_type": "code",
   "execution_count": 13,
   "id": "41a7acab",
   "metadata": {},
   "outputs": [
    {
     "name": "stdout",
     "output_type": "stream",
     "text": [
      "Coefficient of determination (R²): 0.9704545454545455\n"
     ]
    }
   ],
   "source": [
    "y_pred = model.predict(X)\n",
    "r2 = r2_score(y, y_pred)\n",
    "print(\"Coefficient of determination (R²):\", r2)"
   ]
  },
  {
   "cell_type": "code",
   "execution_count": 14,
   "id": "f441fb82",
   "metadata": {},
   "outputs": [
    {
     "name": "stdout",
     "output_type": "stream",
     "text": [
      "R² calculated manually: 0.9704545454545455\n",
      "Adjusted R² calculated manually: 0.9409090909090909\n"
     ]
    }
   ],
   "source": [
    "# Make predictions\n",
    "y_pred = model.predict(X)\n",
    "\n",
    "# Calculate R² manually\n",
    "r2_manual = calculate_r2(y, y_pred)\n",
    "print(\"R² calculated manually:\", r2_manual)\n",
    "\n",
    "# Calculate Adjusted R² manually\n",
    "r2_manual = calculate_adjusted_r2(y, y_pred, X)\n",
    "print(\"Adjusted R² calculated manually:\", r2_manual)"
   ]
  },
  {
   "cell_type": "code",
   "execution_count": null,
   "id": "28e8bde7",
   "metadata": {},
   "outputs": [],
   "source": []
  }
 ],
 "metadata": {
  "kernelspec": {
   "display_name": "Python 3 (ipykernel)",
   "language": "python",
   "name": "python3"
  },
  "language_info": {
   "codemirror_mode": {
    "name": "ipython",
    "version": 3
   },
   "file_extension": ".py",
   "mimetype": "text/x-python",
   "name": "python",
   "nbconvert_exporter": "python",
   "pygments_lexer": "ipython3",
   "version": "3.9.13"
  }
 },
 "nbformat": 4,
 "nbformat_minor": 5
}
