{
 "cells": [
  {
   "cell_type": "markdown",
   "metadata": {},
   "source": [
    "Links:\n",
    "\n",
    "https://docs.pymc.io/en/v3/pymc-examples/examples/diagnostics_and_criticism/posterior_predictive.html\n",
    "\n",
    "https://docs.pymc.io/en/v3/pymc-examples/examples/pymc3_howto/updating_priors.html\n",
    "\n",
    "https://alpopkes.com/posts/machine_learning/bayesian_linear_regression/\n",
    "\n",
    "https://maxhalford.github.io/blog/bayesian-linear-regression/"
   ]
  },
  {
   "cell_type": "code",
   "execution_count": 1,
   "metadata": {},
   "outputs": [],
   "source": [
    "import matplotlib.pyplot as plt\n",
    "import numpy as np\n",
    "import pandas as pd\n",
    "import statsmodels.api as sm\n",
    "%matplotlib inline"
   ]
  },
  {
   "cell_type": "markdown",
   "metadata": {},
   "source": [
    "### Generating data"
   ]
  },
  {
   "cell_type": "code",
   "execution_count": 2,
   "metadata": {},
   "outputs": [
    {
     "data": {
      "text/html": [
       "<div>\n",
       "<style scoped>\n",
       "    .dataframe tbody tr th:only-of-type {\n",
       "        vertical-align: middle;\n",
       "    }\n",
       "\n",
       "    .dataframe tbody tr th {\n",
       "        vertical-align: top;\n",
       "    }\n",
       "\n",
       "    .dataframe thead th {\n",
       "        text-align: right;\n",
       "    }\n",
       "</style>\n",
       "<table border=\"1\" class=\"dataframe\">\n",
       "  <thead>\n",
       "    <tr style=\"text-align: right;\">\n",
       "      <th></th>\n",
       "      <th>x</th>\n",
       "      <th>y</th>\n",
       "    </tr>\n",
       "  </thead>\n",
       "  <tbody>\n",
       "    <tr>\n",
       "      <th>0</th>\n",
       "      <td>0.223291</td>\n",
       "      <td>-1.450413</td>\n",
       "    </tr>\n",
       "    <tr>\n",
       "      <th>1</th>\n",
       "      <td>0.523163</td>\n",
       "      <td>2.010962</td>\n",
       "    </tr>\n",
       "    <tr>\n",
       "      <th>2</th>\n",
       "      <td>0.550701</td>\n",
       "      <td>0.703249</td>\n",
       "    </tr>\n",
       "    <tr>\n",
       "      <th>3</th>\n",
       "      <td>0.045602</td>\n",
       "      <td>1.658509</td>\n",
       "    </tr>\n",
       "    <tr>\n",
       "      <th>4</th>\n",
       "      <td>0.360729</td>\n",
       "      <td>-0.055027</td>\n",
       "    </tr>\n",
       "  </tbody>\n",
       "</table>\n",
       "</div>"
      ],
      "text/plain": [
       "          x         y\n",
       "0  0.223291 -1.450413\n",
       "1  0.523163  2.010962\n",
       "2  0.550701  0.703249\n",
       "3  0.045602  1.658509\n",
       "4  0.360729 -0.055027"
      ]
     },
     "execution_count": 2,
     "metadata": {},
     "output_type": "execute_result"
    }
   ],
   "source": [
    "np.random.seed(16)\n",
    "\n",
    "# Parameters\n",
    "size = 1000\n",
    "beta_0, beta_1 = 1, 2\n",
    "\n",
    "# Simulate outcome variable\n",
    "x = np.random.random(size)\n",
    "y = beta_0 + beta_1 * x + np.random.randn(size)\n",
    "data = pd.DataFrame(dict(x=x, y=y))\n",
    "data.head()"
   ]
  },
  {
   "cell_type": "markdown",
   "metadata": {},
   "source": [
    "### Frequentist linear regression"
   ]
  },
  {
   "cell_type": "code",
   "execution_count": 3,
   "metadata": {},
   "outputs": [
    {
     "name": "stdout",
     "output_type": "stream",
     "text": [
      "                            OLS Regression Results                            \n",
      "==============================================================================\n",
      "Dep. Variable:                      y   R-squared:                       0.252\n",
      "Model:                            OLS   Adj. R-squared:                  0.251\n",
      "Method:                 Least Squares   F-statistic:                     336.4\n",
      "Date:                Sun, 12 Jun 2022   Prob (F-statistic):           5.51e-65\n",
      "Time:                        15:28:54   Log-Likelihood:                -1448.9\n",
      "No. Observations:                1000   AIC:                             2902.\n",
      "Df Residuals:                     998   BIC:                             2912.\n",
      "Df Model:                           1                                         \n",
      "Covariance Type:            nonrobust                                         \n",
      "==============================================================================\n",
      "                 coef    std err          t      P>|t|      [0.025      0.975]\n",
      "------------------------------------------------------------------------------\n",
      "const          0.9862      0.064     15.348      0.000       0.860       1.112\n",
      "x              2.0717      0.113     18.342      0.000       1.850       2.293\n",
      "==============================================================================\n",
      "Omnibus:                        0.990   Durbin-Watson:                   1.884\n",
      "Prob(Omnibus):                  0.610   Jarque-Bera (JB):                0.894\n",
      "Skew:                           0.068   Prob(JB):                        0.640\n",
      "Kurtosis:                       3.053   Cond. No.                         4.35\n",
      "==============================================================================\n",
      "\n",
      "Notes:\n",
      "[1] Standard Errors assume that the covariance matrix of the errors is correctly specified.\n"
     ]
    }
   ],
   "source": [
    "X = sm.add_constant(data['x'])\n",
    "Y = data['y']\n",
    "reg = sm.OLS(Y, X)\n",
    "\n",
    "model_freq = reg.fit()\n",
    "print(model_freq.summary())"
   ]
  },
  {
   "cell_type": "code",
   "execution_count": 4,
   "metadata": {},
   "outputs": [
    {
     "name": "stdout",
     "output_type": "stream",
     "text": [
      "Intercept: 0.986230345022046\n",
      "Slope: 2.071679208492629\n"
     ]
    }
   ],
   "source": [
    "beta_0_ols, beta_1_ols = model_freq.params\n",
    "print(f'Intercept: {beta_0_ols}')\n",
    "print(f'Slope: {beta_1_ols}')"
   ]
  },
  {
   "cell_type": "code",
   "execution_count": 5,
   "metadata": {},
   "outputs": [
    {
     "data": {
      "text/plain": [
       "<matplotlib.legend.Legend at 0x7fb251ab46d0>"
      ]
     },
     "execution_count": 5,
     "metadata": {},
     "output_type": "execute_result"
    },
    {
     "data": {
      "image/png": "[encoded data removed]",
      "text/plain": [
       "<Figure size 504x504 with 1 Axes>"
      ]
     },
     "metadata": {
      "needs_background": "light"
     },
     "output_type": "display_data"
    }
   ],
   "source": [
    "fig, axs = plt.subplots(figsize=(7, 7))\n",
    "plt.scatter(data['x'], data['y'], label='data')\n",
    "x_line = np.linspace(-0, 1, 50)\n",
    "plt.plot(x_line, x_line*beta_1_ols+beta_0_ols, label='population regression line', c='red', lw=2)\n",
    "plt.xlabel('x')\n",
    "plt.ylabel('y')\n",
    "plt.legend()"
   ]
  },
  {
   "cell_type": "code",
   "execution_count": null,
   "metadata": {},
   "outputs": [],
   "source": []
  }
 ],
 "metadata": {
  "colab": {
   "collapsed_sections": [],
   "name": "Corona_germany_SIR.ipynb",
   "provenance": [],
   "toc_visible": true
  },
  "kernelspec": {
   "display_name": "Python 3",
   "language": "python",
   "name": "python3"
  },
  "language_info": {
   "codemirror_mode": {
    "name": "ipython",
    "version": 3
   },
   "file_extension": ".py",
   "mimetype": "text/x-python",
   "name": "python",
   "nbconvert_exporter": "python",
   "pygments_lexer": "ipython3",
   "version": "3.8.8"
  }
 },
 "nbformat": 4,
 "nbformat_minor": 1
}
