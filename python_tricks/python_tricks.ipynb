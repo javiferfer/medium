{
 "cells": [
  {
   "cell_type": "markdown",
   "id": "a761add5",
   "metadata": {},
   "source": [
    "Python Trick:\n",
    "\n",
    "A short Python code snippet meant as a\n",
    "teaching tool. A Python Trick either teaches an aspect of\n",
    "Python with a simple illustration, or it serves as a moti-\n",
    "vating example, enabling you to dig deeper and develop\n",
    "an intuitive understanding."
   ]
  },
  {
   "cell_type": "markdown",
   "id": "271fc8de",
   "metadata": {},
   "source": [
    "### Encapsulate main files with main function"
   ]
  },
  {
   "cell_type": "code",
   "execution_count": null,
   "id": "f904986d",
   "metadata": {},
   "outputs": [],
   "source": []
  },
  {
   "cell_type": "code",
   "execution_count": null,
   "id": "b24071d0",
   "metadata": {},
   "outputs": [],
   "source": []
  },
  {
   "cell_type": "code",
   "execution_count": null,
   "id": "07aeb054",
   "metadata": {},
   "outputs": [],
   "source": []
  },
  {
   "cell_type": "markdown",
   "id": "9319f5da",
   "metadata": {},
   "source": [
    "### Underscores, Dunders, and More"
   ]
  },
  {
   "cell_type": "markdown",
   "id": "4d7c8d23",
   "metadata": {},
   "source": [
    "1. Single Leading Underscore: “_var”\n",
    "\n",
    "The underscore prefix is meant as a hint to tell another programmer\n",
    "that a variable or method starting with a single underscore is intended\n",
    "for internal use. This convention is defined in PEP 8, the most com-\n",
    "monly used Python code style guide.8"
   ]
  },
  {
   "cell_type": "code",
   "execution_count": null,
   "id": "9605e4f3",
   "metadata": {},
   "outputs": [],
   "source": [
    "# my_module.py:\n",
    "def external_func():\n",
    "    return 23\n",
    "\n",
    "def _internal_func():\n",
    "return 42"
   ]
  },
  {
   "cell_type": "code",
   "execution_count": null,
   "id": "89f23eca",
   "metadata": {},
   "outputs": [],
   "source": [
    ">>> from my_module import *\n",
    ">>> external_func()\n",
    "23\n",
    ">>> _internal_func()\n",
    "NameError: \"name '_internal_func' is not defined\""
   ]
  },
  {
   "cell_type": "markdown",
   "id": "c698dd88",
   "metadata": {},
   "source": [
    "By the way, wildcard imports should be avoided as they make it un-\n",
    "clear which names are present in the namespace.10 It’s better to stick\n",
    "to regular imports for the sake of clarity. Unlike wildcard imports, reg-\n",
    "ular imports are not affected by the leading single underscore naming\n",
    "convention:"
   ]
  },
  {
   "cell_type": "code",
   "execution_count": null,
   "id": "f93a18e8",
   "metadata": {},
   "outputs": [],
   "source": [
    ">>> import my_module\n",
    ">>> my_module.external_func()\n",
    "23\n",
    ">>> my_module._internal_func()\n",
    "42"
   ]
  },
  {
   "cell_type": "markdown",
   "id": "16c126e9",
   "metadata": {},
   "source": [
    "2. Single Trailing Underscore: “var_”"
   ]
  },
  {
   "cell_type": "markdown",
   "id": "20c71965",
   "metadata": {},
   "source": [
    "Sometimes the most fitting name for a variable is already taken by a\n",
    "keyword in the Python language. Therefore, names like class or def\n",
    "cannot be used as variable names in Python. In this case, you can\n",
    "append a single underscore to break the naming conflict:"
   ]
  },
  {
   "cell_type": "code",
   "execution_count": null,
   "id": "315abb08",
   "metadata": {},
   "outputs": [],
   "source": [
    ">>> def make_object(name, class):\n",
    "SyntaxError: \"invalid syntax\"\n",
    ">>> def make_object(name, class_):\n",
    "...\n",
    "pass"
   ]
  },
  {
   "cell_type": "markdown",
   "id": "e230ae76",
   "metadata": {},
   "source": [
    "In summary, a single trailing underscore (postfix) is used by conven-\n",
    "tion to avoid naming conflicts with Python keywords. This convention\n",
    "is defined and explained in PEP 8."
   ]
  },
  {
   "cell_type": "markdown",
   "id": "b2513df8",
   "metadata": {},
   "source": [
    "3. Double Leading Underscore: “__var”"
   ]
  },
  {
   "cell_type": "markdown",
   "id": "97f287f8",
   "metadata": {},
   "source": [
    "A double underscore prefix causes the Python interpreter to rewrite\n",
    "the attribute name in order to avoid naming conflicts in subclasses. This is also called name mangling—the interpreter changes the name\n",
    "of the variable in a way that makes it harder to create collisions when\n",
    "the class is extended later."
   ]
  },
  {
   "cell_type": "code",
   "execution_count": null,
   "id": "841fd98b",
   "metadata": {},
   "outputs": [],
   "source": [
    "class Test:\n",
    "    def __init__(self):\n",
    "        self.foo = 11\n",
    "        self._bar = 23\n",
    "        self.__baz = 23"
   ]
  },
  {
   "cell_type": "code",
   "execution_count": null,
   "id": "73d44174",
   "metadata": {},
   "outputs": [],
   "source": [
    ">>> t = Test()\n",
    ">>> dir(t)\n",
    "['_Test__baz', '__class__', '__delattr__', '__dict__',\n",
    "'__dir__', '__doc__', '__eq__', '__format__', '__ge__',\n",
    "'__getattribute__', '__gt__', '__hash__', '__init__',\n",
    "'__le__', '__lt__', '__module__', '__ne__', '__new__',\n",
    "'__reduce__', '__reduce_ex__', '__repr__',\n",
    "'__setattr__', '__sizeof__', '__str__',\n",
    "'__subclasshook__', '__weakref__', '_bar', 'foo']"
   ]
  },
  {
   "cell_type": "markdown",
   "id": "8daf1adf",
   "metadata": {},
   "source": [
    "This gives us a list with the object’s attributes. Let’s take this list and\n",
    "look for our original variable names foo, _bar, and __baz. I promise\n",
    "you’ll notice some interesting changes.\n",
    "\n",
    "First of all, the self.foo variable appears unmodified as foo in the\n",
    "attribute list.\n",
    "\n",
    "Next up, self._bar behaves the same way—it shows up on the class\n",
    "as _bar. Like I said before, the leading underscore is just a convention\n",
    "in this case—a hint for the programmer.\n",
    "However, with self.__baz things look a little different. When you\n",
    "search for __baz in that list, you’ll see that there is no variable with\n",
    "that name.\n",
    "\n",
    "So what happened to __baz?\n",
    "\n",
    "If you look closely, you’ll see there’s an attribute called _Test__baz\n",
    "on this object. This is the name mangling that the Python interpreter\n",
    "applies. It does this to protect the variable from getting overridden in\n",
    "subclasses."
   ]
  },
  {
   "cell_type": "markdown",
   "id": "3e5e6ce1",
   "metadata": {},
   "source": [
    "Let’s create another class that extends the Test class and attempts to\n",
    "override its existing attributes added in the constructor:"
   ]
  },
  {
   "cell_type": "code",
   "execution_count": null,
   "id": "ce06539f",
   "metadata": {},
   "outputs": [],
   "source": [
    "class ExtendedTest(Test):\n",
    "    def __init__(self):\n",
    "        super().__init__()\n",
    "        self.foo = 'overridden'\n",
    "        self._bar = 'overridden'\n",
    "        self.__baz = 'overridden'"
   ]
  },
  {
   "cell_type": "code",
   "execution_count": null,
   "id": "6bc601c6",
   "metadata": {},
   "outputs": [],
   "source": [
    ">>> t2 = ExtendedTest()\n",
    ">>> t2.foo\n",
    "'overridden'\n",
    ">>> t2._bar\n",
    "'overridden'\n",
    ">>> t2.__baz\n",
    "AttributeError:\n",
    "\"'ExtendedTest' object has no attribute '__baz'\""
   ]
  },
  {
   "cell_type": "code",
   "execution_count": null,
   "id": "ad1552e4",
   "metadata": {},
   "outputs": [],
   "source": [
    ">>> dir(t2)\n",
    "['_ExtendedTest__baz', '_Test__baz', '__class__',\n",
    "'__delattr__', '__dict__', '__dir__', '__doc__',\n",
    "'__eq__', '__format__', '__ge__', '__getattribute__',\n",
    "'__gt__', '__hash__', '__init__', '__le__', '__lt__',\n",
    "'__module__', '__ne__', '__new__', '__reduce__',\n",
    "'__reduce_ex__', '__repr__', '__setattr__',\n",
    "'__sizeof__', '__str__', '__subclasshook__',\n",
    "'__weakref__', '_bar', 'foo', 'get_vars']"
   ]
  },
  {
   "cell_type": "markdown",
   "id": "4cc136ff",
   "metadata": {},
   "source": [
    "As you can see, __baz got turned into _ExtendedTest__baz to pre-\n",
    "vent accidental modification. But the original _Test__baz is also still\n",
    "around:"
   ]
  },
  {
   "cell_type": "code",
   "execution_count": null,
   "id": "b5f7af8d",
   "metadata": {},
   "outputs": [],
   "source": [
    ">>> t2._ExtendedTest__baz\n",
    "'overridden'\n",
    ">>> t2._Test__baz\n",
    "42"
   ]
  },
  {
   "cell_type": "markdown",
   "id": "2e7fee31",
   "metadata": {},
   "source": [
    "4. Double Leading and Trailing Underscore: “__var__”"
   ]
  },
  {
   "cell_type": "markdown",
   "id": "6b0148f5",
   "metadata": {},
   "source": [
    "Perhaps surprisingly, name mangling is not applied if a name starts\n",
    "and ends with double underscores. Variables surrounded by a double\n",
    "underscore prefix and postfix are left unscathed by the Python inter-\n",
    "preter:"
   ]
  },
  {
   "cell_type": "code",
   "execution_count": null,
   "id": "d664ae3d",
   "metadata": {},
   "outputs": [],
   "source": [
    "class PrefixPostfixTest:\n",
    "    def __init__(self):\n",
    "        self.__bam__ = 42\n",
    ">>> PrefixPostfixTest().__bam__\n",
    "42"
   ]
  },
  {
   "cell_type": "markdown",
   "id": "05c00724",
   "metadata": {},
   "source": [
    "However, names that have both leading and trailing double under-\n",
    "scores are reserved for special use in the language. This rule covers\n",
    "things like __init__ for object constructors, or __call__ to make ob-\n",
    "jects callable.\n",
    "These dunder methods are often referred to as magic methods—but\n",
    "many people in the Python community, including myself, don’t like\n",
    "that word. It implies that the use of dunder methods is discouraged,\n",
    "which is entirely not the case. They’re a core feature in Python and\n",
    "should be used as needed. There’s nothing “magical” or arcane about\n",
    "them.\n",
    "However, as far as naming conventions go, it’s best to stay away from\n",
    "using names that start and end with double underscores in your own\n",
    "programs to avoid collisions with future changes to the Python lan-\n",
    "guage."
   ]
  },
  {
   "cell_type": "markdown",
   "id": "12dbe5cc",
   "metadata": {},
   "source": [
    "### Asserts"
   ]
  },
  {
   "cell_type": "markdown",
   "id": "b76ce574",
   "metadata": {},
   "source": [
    "- Python’s assert statement is a debugging aid that tests a condi-\n",
    "tion as an internal self-check in your program.\n",
    "- Asserts should only be used to help developers identify bugs.\n",
    "They’re not a mechanism for handling run-time errors.\n",
    "- Asserts can be globally disabled with an interpreter setting."
   ]
  },
  {
   "cell_type": "markdown",
   "id": "af622951",
   "metadata": {},
   "source": [
    "I cannot recommend using assertions in production code under normal circumstances. While there are rare edge cases where it might be tempting, the drawbacks often outweigh the benefits. Here's why:\n",
    "\n",
    "Reasons to avoid assertions in production:\n",
    "\n",
    "Can be disabled: Most languages allow disabling assertions in production builds, rendering them useless for catching errors at runtime.\n",
    "Don't provide meaningful feedback: Assertions typically just crash the program with a generic message, making debugging harder.\n",
    "Mask deeper issues: Unexpected scenarios often indicate errors beyond the assertion point, hiding the actual root cause.\n",
    "Performance impact: Even disabled assertions can have a minor performance overhead in production.\n",
    "Alternatives to assertions in production:\n",
    "\n",
    "Robust validation: Implement thorough validation logic at the entry points of your application, ensuring expected data formats and values.\n",
    "Exception handling: For external errors, use exceptions to gracefully handle and report issues, providing informative messages for debugging.\n",
    "Logging: Log suspicious conditions and potential problems for later analysis and investigation.\n",
    "However, there might be a rare exceptional case where an assertion could be justified:\n",
    "\n",
    "Critical invariant protection: If a violation of a specific internal state would lead to catastrophic consequences even in production (e.g., data corruption), you might consider an assertion as a last-resort safeguard. But remember, this should be a well-defined, highly unlikely scenario, and the assertion should provide a detailed error message for later analysis.\n",
    "In summary: While exceptions have their own limitations, using well-designed exceptions combined with thorough validation is generally the recommended approach for error handling in production code. Avoid relying on assertions, as they offer little value and potential drawbacks in real-world applications."
   ]
  },
  {
   "cell_type": "code",
   "execution_count": null,
   "id": "a25eadf0",
   "metadata": {},
   "outputs": [],
   "source": [
    "def delete_product(prod_id, user):\n",
    "    assert user.is_admin(), 'Must be admin'\n",
    "    assert store.has_product(prod_id), 'Unknown product'\n",
    "    store.get_product(prod_id).delete()"
   ]
  },
  {
   "cell_type": "code",
   "execution_count": null,
   "id": "0a1ccdd0",
   "metadata": {},
   "outputs": [],
   "source": [
    "def delete_product(product_id, user):\n",
    "    if not user.is_admin():\n",
    "        raise AuthError('Must be admin to delete')\n",
    "    if not store.has_product(product_id):\n",
    "        raise ValueError('Unknown product id')\n",
    "    store.get_product(product_id).delete()"
   ]
  },
  {
   "cell_type": "markdown",
   "id": "f5712e91",
   "metadata": {},
   "source": [
    "### Context Managers and the with Statement"
   ]
  },
  {
   "cell_type": "code",
   "execution_count": null,
   "id": "0c43ba5d",
   "metadata": {},
   "outputs": [],
   "source": [
    "with open('hello.txt', 'w') as f:\n",
    "    f.write('hello, world!')"
   ]
  },
  {
   "cell_type": "markdown",
   "id": "72123169",
   "metadata": {},
   "source": [
    "Opening files using the with statement is generally recommended be-\n",
    "cause it ensures that open file descriptors are closed automatically af-\n",
    "ter program execution leaves the context of the with statement. Inter-\n",
    "nally, the above code sample translates to something like this:"
   ]
  },
  {
   "cell_type": "code",
   "execution_count": null,
   "id": "47cbe8fa",
   "metadata": {},
   "outputs": [],
   "source": [
    "f = open('hello.txt', 'w')\n",
    "try:\n",
    "    f.write('hello, world')\n",
    "finally:\n",
    "    f.close()"
   ]
  },
  {
   "cell_type": "markdown",
   "id": "3dadfe1f",
   "metadata": {},
   "source": [
    "You can already tell that this is quite a bit more verbose. Note that\n",
    "the try...finally statement is significant. It wouldn’t be enough to\n",
    "just write something like this:"
   ]
  },
  {
   "cell_type": "code",
   "execution_count": null,
   "id": "21171e2c",
   "metadata": {},
   "outputs": [],
   "source": [
    "f = open('hello.txt', 'w')\n",
    "f.write('hello, world')\n",
    "f.close()"
   ]
  },
  {
   "cell_type": "markdown",
   "id": "40b95ea3",
   "metadata": {},
   "source": [
    "This implementation won’t guarantee the file is closed if there’s an ex-\n",
    "ception during the f.write() call—and therefore our program might\n",
    "leak a file descriptor. That’s why the with statement is so useful. It\n",
    "makes properly acquiring and releasing resources a breeze."
   ]
  },
  {
   "cell_type": "markdown",
   "id": "cfccb45a",
   "metadata": {},
   "source": [
    "### Python’s Functions Are First-Class"
   ]
  },
  {
   "cell_type": "markdown",
   "id": "27e38256",
   "metadata": {},
   "source": [
    "- Everything in Python is an object, including functions. You can\n",
    "assign them to variables, store them in data structures, and pass\n",
    "or return them to and from other functions (first-class func-\n",
    "tions.)\n",
    "- First-class functions allow you to abstract away and pass\n",
    "around behavior in your programs.\n",
    "- Functions can be nested and they can capture and carry some\n",
    "of the parent function’s state with them. Functions that do this\n",
    "are called closures.\n",
    "- Objects can be made callable. In many cases this allows you to\n",
    "treat them like functions."
   ]
  },
  {
   "cell_type": "code",
   "execution_count": 10,
   "id": "1a2f7c3b",
   "metadata": {},
   "outputs": [
    {
     "data": {
      "text/plain": [
       "'HELLO!'"
      ]
     },
     "execution_count": 10,
     "metadata": {},
     "output_type": "execute_result"
    }
   ],
   "source": [
    "def yell(text):\n",
    "    return text.upper() + '!'\n",
    "yell('hello')"
   ]
  },
  {
   "cell_type": "markdown",
   "id": "2f09b60c",
   "metadata": {},
   "source": [
    "#### Functions Are Objects"
   ]
  },
  {
   "cell_type": "code",
   "execution_count": 11,
   "id": "6712ab78",
   "metadata": {},
   "outputs": [
    {
     "data": {
      "text/plain": [
       "'WOOF!'"
      ]
     },
     "execution_count": 11,
     "metadata": {},
     "output_type": "execute_result"
    }
   ],
   "source": [
    "bark = yell\n",
    "\n",
    "bark('woof')"
   ]
  },
  {
   "cell_type": "code",
   "execution_count": 12,
   "id": "96fe9d16",
   "metadata": {},
   "outputs": [
    {
     "data": {
      "text/plain": [
       "139932361415696"
      ]
     },
     "execution_count": 12,
     "metadata": {},
     "output_type": "execute_result"
    }
   ],
   "source": [
    "id(bark)"
   ]
  },
  {
   "cell_type": "code",
   "execution_count": 13,
   "id": "ffffd99f",
   "metadata": {},
   "outputs": [
    {
     "data": {
      "text/plain": [
       "139932361415696"
      ]
     },
     "execution_count": 13,
     "metadata": {},
     "output_type": "execute_result"
    }
   ],
   "source": [
    "id(yell)"
   ]
  },
  {
   "cell_type": "markdown",
   "id": "c63c5e82",
   "metadata": {},
   "source": [
    "Function objects and their names are two separate concerns. Here’s\n",
    "more proof: You can delete the function’s original name (yell). Since\n",
    "another name (bark) still points to the underlying function, you can\n",
    "still call the function through it:"
   ]
  },
  {
   "cell_type": "code",
   "execution_count": 14,
   "id": "095a6583",
   "metadata": {},
   "outputs": [
    {
     "ename": "NameError",
     "evalue": "name 'yell' is not defined",
     "output_type": "error",
     "traceback": [
      "\u001b[0;31m---------------------------------------------------------------------------\u001b[0m",
      "\u001b[0;31mNameError\u001b[0m                                 Traceback (most recent call last)",
      "\u001b[0;32m/tmp/ipykernel_4247/1983037578.py\u001b[0m in \u001b[0;36m<module>\u001b[0;34m\u001b[0m\n\u001b[1;32m      1\u001b[0m \u001b[0;32mdel\u001b[0m \u001b[0myell\u001b[0m\u001b[0;34m\u001b[0m\u001b[0;34m\u001b[0m\u001b[0m\n\u001b[1;32m      2\u001b[0m \u001b[0;34m\u001b[0m\u001b[0m\n\u001b[0;32m----> 3\u001b[0;31m \u001b[0myell\u001b[0m\u001b[0;34m(\u001b[0m\u001b[0;34m'hello?'\u001b[0m\u001b[0;34m)\u001b[0m\u001b[0;34m\u001b[0m\u001b[0;34m\u001b[0m\u001b[0m\n\u001b[0m",
      "\u001b[0;31mNameError\u001b[0m: name 'yell' is not defined"
     ]
    }
   ],
   "source": [
    "del yell\n",
    "\n",
    "yell('hello?')"
   ]
  },
  {
   "cell_type": "code",
   "execution_count": 15,
   "id": "d77c142b",
   "metadata": {},
   "outputs": [
    {
     "ename": "NameError",
     "evalue": "name 'yell' is not defined",
     "output_type": "error",
     "traceback": [
      "\u001b[0;31m---------------------------------------------------------------------------\u001b[0m",
      "\u001b[0;31mNameError\u001b[0m                                 Traceback (most recent call last)",
      "\u001b[0;32m/tmp/ipykernel_4247/2566094154.py\u001b[0m in \u001b[0;36m<module>\u001b[0;34m\u001b[0m\n\u001b[0;32m----> 1\u001b[0;31m \u001b[0mid\u001b[0m\u001b[0;34m(\u001b[0m\u001b[0myell\u001b[0m\u001b[0;34m)\u001b[0m\u001b[0;34m\u001b[0m\u001b[0;34m\u001b[0m\u001b[0m\n\u001b[0m",
      "\u001b[0;31mNameError\u001b[0m: name 'yell' is not defined"
     ]
    }
   ],
   "source": [
    "id(yell)"
   ]
  },
  {
   "cell_type": "code",
   "execution_count": 16,
   "id": "f9034dca",
   "metadata": {},
   "outputs": [
    {
     "data": {
      "text/plain": [
       "'HEY!'"
      ]
     },
     "execution_count": 16,
     "metadata": {},
     "output_type": "execute_result"
    }
   ],
   "source": [
    "bark('hey')"
   ]
  },
  {
   "cell_type": "markdown",
   "id": "71f5cee4",
   "metadata": {},
   "source": [
    "By the way, Python attaches a string identifier to every function at\n",
    "creation time for debugging purposes. You can access this internal\n",
    "identifier with the __name__ attribute:"
   ]
  },
  {
   "cell_type": "code",
   "execution_count": 17,
   "id": "d057c4cb",
   "metadata": {},
   "outputs": [
    {
     "data": {
      "text/plain": [
       "'yell'"
      ]
     },
     "execution_count": 17,
     "metadata": {},
     "output_type": "execute_result"
    }
   ],
   "source": [
    "bark.__name__"
   ]
  },
  {
   "cell_type": "markdown",
   "id": "634662f1",
   "metadata": {},
   "source": [
    "#### Functions Can Be Stored in Data Structures"
   ]
  },
  {
   "cell_type": "code",
   "execution_count": 18,
   "id": "adee5e16",
   "metadata": {},
   "outputs": [],
   "source": [
    "funcs = [bark, str.lower, str.capitalize]"
   ]
  },
  {
   "cell_type": "code",
   "execution_count": 19,
   "id": "d7a4cdb0",
   "metadata": {},
   "outputs": [
    {
     "data": {
      "text/plain": [
       "[<function __main__.yell(text)>,\n",
       " <method 'lower' of 'str' objects>,\n",
       " <method 'capitalize' of 'str' objects>]"
      ]
     },
     "execution_count": 19,
     "metadata": {},
     "output_type": "execute_result"
    }
   ],
   "source": [
    "funcs"
   ]
  },
  {
   "cell_type": "code",
   "execution_count": 20,
   "id": "7ac8589a",
   "metadata": {},
   "outputs": [
    {
     "name": "stdout",
     "output_type": "stream",
     "text": [
      "<function yell at 0x7f448ab1dc10> HEY THERE!\n",
      "<method 'lower' of 'str' objects> hey there\n",
      "<method 'capitalize' of 'str' objects> Hey there\n"
     ]
    }
   ],
   "source": [
    "for f in funcs:\n",
    "    print(f, f('hey there'))"
   ]
  },
  {
   "cell_type": "markdown",
   "id": "183f34ca",
   "metadata": {},
   "source": [
    "#### Functions Can Be Passed to Other Functions"
   ]
  },
  {
   "cell_type": "code",
   "execution_count": 22,
   "id": "7d582895",
   "metadata": {},
   "outputs": [
    {
     "name": "stdout",
     "output_type": "stream",
     "text": [
      "HI, I AM A PYTHON PROGRAM!\n"
     ]
    }
   ],
   "source": [
    "def greet(func):\n",
    "    greeting = func('Hi, I am a Python program')\n",
    "    print(greeting)\n",
    "greet(bark)"
   ]
  },
  {
   "cell_type": "markdown",
   "id": "e8bde6eb",
   "metadata": {},
   "source": [
    "The classical example for higher-order functions in Python is the built-\n",
    "in map function. It takes a function object and an iterable, and then\n",
    "calls the function on each element in the iterable, yielding the results\n",
    "as it goes along."
   ]
  },
  {
   "cell_type": "code",
   "execution_count": 23,
   "id": "ad025c7b",
   "metadata": {},
   "outputs": [
    {
     "data": {
      "text/plain": [
       "['HELLO!', 'HEY!', 'HI!']"
      ]
     },
     "execution_count": 23,
     "metadata": {},
     "output_type": "execute_result"
    }
   ],
   "source": [
    "list(map(bark, ['hello', 'hey', 'hi']))"
   ]
  },
  {
   "cell_type": "markdown",
   "id": "059c4e23",
   "metadata": {},
   "source": [
    "#### Functions Can Be Nested"
   ]
  },
  {
   "cell_type": "code",
   "execution_count": 24,
   "id": "2758c2e9",
   "metadata": {},
   "outputs": [
    {
     "data": {
      "text/plain": [
       "'hello, world...'"
      ]
     },
     "execution_count": 24,
     "metadata": {},
     "output_type": "execute_result"
    }
   ],
   "source": [
    "def speak(text):\n",
    "    def whisper(t):\n",
    "        return t.lower() + '...'\n",
    "    return whisper(text)\n",
    "\n",
    "speak('Hello, World')"
   ]
  },
  {
   "cell_type": "markdown",
   "id": "50cdd1f1",
   "metadata": {},
   "source": [
    "Here’s the kicker though—whisper does not exist outside speak:"
   ]
  },
  {
   "cell_type": "code",
   "execution_count": 25,
   "id": "dd26e6d1",
   "metadata": {},
   "outputs": [
    {
     "ename": "NameError",
     "evalue": "name 'whisper' is not defined",
     "output_type": "error",
     "traceback": [
      "\u001b[0;31m---------------------------------------------------------------------------\u001b[0m",
      "\u001b[0;31mNameError\u001b[0m                                 Traceback (most recent call last)",
      "\u001b[0;32m/tmp/ipykernel_4247/2367827654.py\u001b[0m in \u001b[0;36m<module>\u001b[0;34m\u001b[0m\n\u001b[0;32m----> 1\u001b[0;31m \u001b[0mwhisper\u001b[0m\u001b[0;34m(\u001b[0m\u001b[0;34m'Yo'\u001b[0m\u001b[0;34m)\u001b[0m\u001b[0;34m\u001b[0m\u001b[0;34m\u001b[0m\u001b[0m\n\u001b[0m",
      "\u001b[0;31mNameError\u001b[0m: name 'whisper' is not defined"
     ]
    }
   ],
   "source": [
    "whisper('Yo')"
   ]
  },
  {
   "cell_type": "code",
   "execution_count": 26,
   "id": "bb9a382e",
   "metadata": {},
   "outputs": [
    {
     "ename": "AttributeError",
     "evalue": "'function' object has no attribute 'whisper'",
     "output_type": "error",
     "traceback": [
      "\u001b[0;31m---------------------------------------------------------------------------\u001b[0m",
      "\u001b[0;31mAttributeError\u001b[0m                            Traceback (most recent call last)",
      "\u001b[0;32m/tmp/ipykernel_4247/1012873556.py\u001b[0m in \u001b[0;36m<module>\u001b[0;34m\u001b[0m\n\u001b[0;32m----> 1\u001b[0;31m \u001b[0mspeak\u001b[0m\u001b[0;34m.\u001b[0m\u001b[0mwhisper\u001b[0m\u001b[0;34m\u001b[0m\u001b[0;34m\u001b[0m\u001b[0m\n\u001b[0m",
      "\u001b[0;31mAttributeError\u001b[0m: 'function' object has no attribute 'whisper'"
     ]
    }
   ],
   "source": [
    "speak.whisper"
   ]
  },
  {
   "cell_type": "markdown",
   "id": "931b09d9",
   "metadata": {},
   "source": [
    "But what if you really wanted to access that nested whisper function\n",
    "from outside speak? Well, functions are objects—you can return the\n",
    "inner function to the caller of the parent function."
   ]
  },
  {
   "cell_type": "code",
   "execution_count": 28,
   "id": "6e35ba64",
   "metadata": {},
   "outputs": [
    {
     "data": {
      "text/plain": [
       "<function __main__.get_speak_func.<locals>.whisper(text)>"
      ]
     },
     "execution_count": 28,
     "metadata": {},
     "output_type": "execute_result"
    }
   ],
   "source": [
    "def get_speak_func(volume):\n",
    "    def whisper(text):\n",
    "        return text.lower() + '...'\n",
    "    def yell(text):\n",
    "        return text.upper() + '!'\n",
    "\n",
    "    if volume > 0.5:\n",
    "        return yell\n",
    "    else:\n",
    "        return whisper\n",
    "\n",
    "get_speak_func(0.3)"
   ]
  },
  {
   "cell_type": "markdown",
   "id": "cdeef1d4",
   "metadata": {},
   "source": [
    "#### Functions Can Capture Local State"
   ]
  },
  {
   "cell_type": "markdown",
   "id": "bdbb494f",
   "metadata": {},
   "source": [
    "I’m going to slightly rewrite the previous get_speak_func example\n",
    "to illustrate this. The new version takes a “volume” and a “text” argu-\n",
    "ment right away to make the returned function immediately callable:"
   ]
  },
  {
   "cell_type": "code",
   "execution_count": 29,
   "id": "121d6bc1",
   "metadata": {},
   "outputs": [
    {
     "data": {
      "text/plain": [
       "'HELLO, WORLD!'"
      ]
     },
     "execution_count": 29,
     "metadata": {},
     "output_type": "execute_result"
    }
   ],
   "source": [
    "def get_speak_func(text, volume):\n",
    "    def whisper():\n",
    "        return text.lower() + '...'\n",
    "    def yell():\n",
    "        return text.upper() + '!'\n",
    "\n",
    "    if volume > 0.5:\n",
    "        return yell\n",
    "    else:\n",
    "        return whisper\n",
    "get_speak_func('Hello, World', 0.7)()"
   ]
  },
  {
   "cell_type": "code",
   "execution_count": 30,
   "id": "10520035",
   "metadata": {},
   "outputs": [],
   "source": [
    "def make_adder(n):\n",
    "    def add(x):\n",
    "        return x + n\n",
    "    return add\n",
    "\n",
    "plus_3 = make_adder(3)\n",
    "plus_5 = make_adder(5)"
   ]
  },
  {
   "cell_type": "code",
   "execution_count": 31,
   "id": "82b0d1a9",
   "metadata": {},
   "outputs": [
    {
     "data": {
      "text/plain": [
       "7"
      ]
     },
     "execution_count": 31,
     "metadata": {},
     "output_type": "execute_result"
    }
   ],
   "source": [
    "plus_3(4)"
   ]
  },
  {
   "cell_type": "code",
   "execution_count": 32,
   "id": "650654a5",
   "metadata": {},
   "outputs": [
    {
     "data": {
      "text/plain": [
       "9"
      ]
     },
     "execution_count": 32,
     "metadata": {},
     "output_type": "execute_result"
    }
   ],
   "source": [
    "plus_5(4)"
   ]
  },
  {
   "cell_type": "markdown",
   "id": "261fc95e",
   "metadata": {},
   "source": [
    "#### Objects Can Behave Like Functions"
   ]
  },
  {
   "cell_type": "markdown",
   "id": "b2bc5612",
   "metadata": {},
   "source": [
    "If an object is callable it means you can use the round parentheses\n",
    "function call syntax on it and even pass in function call arguments.\n",
    "This is all powered by the __call__ dunder method. Here’s an exam-\n",
    "ple of class defining a callable object:"
   ]
  },
  {
   "cell_type": "code",
   "execution_count": 34,
   "id": "7a711908",
   "metadata": {},
   "outputs": [
    {
     "data": {
      "text/plain": [
       "7"
      ]
     },
     "execution_count": 34,
     "metadata": {},
     "output_type": "execute_result"
    }
   ],
   "source": [
    "class Adder:\n",
    "    def __init__(self, n):\n",
    "        self.n = n\n",
    "\n",
    "    def __call__(self, x):\n",
    "        return self.n + x\n",
    "\n",
    "plus_3 = Adder(3)\n",
    "plus_3(4)"
   ]
  },
  {
   "cell_type": "markdown",
   "id": "03fec6ec",
   "metadata": {},
   "source": [
    "Of course, not all objects will be callable. That’s why there’s a built-in\n",
    "callable function to check whether an object appears to be callable\n",
    "or not:"
   ]
  },
  {
   "cell_type": "code",
   "execution_count": 35,
   "id": "a45090bb",
   "metadata": {},
   "outputs": [
    {
     "data": {
      "text/plain": [
       "True"
      ]
     },
     "execution_count": 35,
     "metadata": {},
     "output_type": "execute_result"
    }
   ],
   "source": [
    "callable(plus_3)"
   ]
  },
  {
   "cell_type": "code",
   "execution_count": 37,
   "id": "6926a80c",
   "metadata": {},
   "outputs": [
    {
     "data": {
      "text/plain": [
       "False"
      ]
     },
     "execution_count": 37,
     "metadata": {},
     "output_type": "execute_result"
    }
   ],
   "source": [
    "callable('hello')"
   ]
  },
  {
   "cell_type": "markdown",
   "id": "2f4c184e",
   "metadata": {},
   "source": [
    "### Lambdas Are Single-Expression Functions"
   ]
  },
  {
   "cell_type": "markdown",
   "id": "853be049",
   "metadata": {},
   "source": [
    "The lambda keyword in Python provides a shortcut for declaring\n",
    "small anonymous functions. Lambda functions behave just like\n",
    "regular functions declared with the def keyword. They can be used\n",
    "whenever function objects are required."
   ]
  },
  {
   "cell_type": "code",
   "execution_count": 38,
   "id": "af91bf2a",
   "metadata": {},
   "outputs": [
    {
     "data": {
      "text/plain": [
       "8"
      ]
     },
     "execution_count": 38,
     "metadata": {},
     "output_type": "execute_result"
    }
   ],
   "source": [
    "add = lambda x, y: x + y\n",
    "add(5, 3)"
   ]
  },
  {
   "cell_type": "markdown",
   "id": "e731c54b",
   "metadata": {},
   "source": [
    "You could declare the same add function with the def keyword, but it\n",
    "would be slightly more verbose:"
   ]
  },
  {
   "cell_type": "code",
   "execution_count": 39,
   "id": "5003b732",
   "metadata": {},
   "outputs": [
    {
     "data": {
      "text/plain": [
       "8"
      ]
     },
     "execution_count": 39,
     "metadata": {},
     "output_type": "execute_result"
    }
   ],
   "source": [
    "def add(x, y):\n",
    "    return x + y\n",
    "\n",
    "add(5, 3)"
   ]
  },
  {
   "cell_type": "markdown",
   "id": "6de7b5ef",
   "metadata": {},
   "source": [
    "Now you might be wondering, “Why the big fuss about lambdas? If\n",
    "they’re just a slightly more concise version of declaring functions with\n",
    "def, what’s the big deal?”\n",
    "\n",
    "Take a look at the following example and keep the words function ex-\n",
    "pression in your head while you do that:"
   ]
  },
  {
   "cell_type": "code",
   "execution_count": 40,
   "id": "390244f6",
   "metadata": {},
   "outputs": [
    {
     "data": {
      "text/plain": [
       "8"
      ]
     },
     "execution_count": 40,
     "metadata": {},
     "output_type": "execute_result"
    }
   ],
   "source": [
    "(lambda x, y: x + y)(5, 3)"
   ]
  },
  {
   "cell_type": "markdown",
   "id": "9ee4eae4",
   "metadata": {},
   "source": [
    "There’s another syntactic difference between lambdas and regular\n",
    "function definitions. Lambda functions are restricted to a single\n",
    "expression. This means a lambda function can’t use statements or\n",
    "annotations—not even a return statement.\n",
    "\n",
    "How do you return values from lambdas then? Executing a lambda\n",
    "function evaluates its expression and then automatically returns\n",
    "the expression’s result, so there’s always an implicit return state-\n",
    "ment. That’s why some people refer to lambdas as single expression\n",
    "functions."
   ]
  },
  {
   "cell_type": "markdown",
   "id": "591602fa",
   "metadata": {},
   "source": [
    "#### Lambdas You Can Use"
   ]
  },
  {
   "cell_type": "markdown",
   "id": "9e98b7f1",
   "metadata": {},
   "source": [
    "When should you use lambda functions in your code? Technically, any\n",
    "time you’re expected to supply a function object you can use a lambda\n",
    "expression. And because lambdas can be anonymous, you don’t even\n",
    "need to assign them to a name first.\n",
    "\n",
    "This can provide a handy and “unbureaucratic” shortcut to defining a\n",
    "function in Python. My most frequent use case for lambdas is writing\n",
    "short and concise key funcs for sorting iterables by an alternate key:"
   ]
  },
  {
   "cell_type": "code",
   "execution_count": 41,
   "id": "f31367f0",
   "metadata": {},
   "outputs": [
    {
     "data": {
      "text/plain": [
       "[(4, 'a'), (2, 'b'), (3, 'c'), (1, 'd')]"
      ]
     },
     "execution_count": 41,
     "metadata": {},
     "output_type": "execute_result"
    }
   ],
   "source": [
    "tuples = [(1, 'd'), (2, 'b'), (4, 'a'), (3, 'c')]\n",
    "sorted(tuples, key=lambda x: x[1])"
   ]
  },
  {
   "cell_type": "code",
   "execution_count": 42,
   "id": "a7ebaa5b",
   "metadata": {},
   "outputs": [
    {
     "data": {
      "text/plain": [
       "[0, -1, 1, -2, 2, -3, 3, -4, 4, -5, 5]"
      ]
     },
     "execution_count": 42,
     "metadata": {},
     "output_type": "execute_result"
    }
   ],
   "source": [
    "sorted(range(-5, 6), key=lambda x: x * x)"
   ]
  },
  {
   "cell_type": "markdown",
   "id": "e59be011",
   "metadata": {},
   "source": [
    "#### But Maybe You Shouldn’t…"
   ]
  },
  {
   "cell_type": "markdown",
   "id": "c5c55a92",
   "metadata": {},
   "source": [
    "For example, doing something like this to save two lines of code is just\n",
    "silly. Sure, technically it works and it’s a nice enough “trick.” But it’s\n",
    "also going to confuse the next gal or guy that has to ship a bugfix under\n",
    "a tight deadline:"
   ]
  },
  {
   "cell_type": "code",
   "execution_count": 44,
   "id": "279c9330",
   "metadata": {},
   "outputs": [
    {
     "name": "stdout",
     "output_type": "stream",
     "text": [
      "Boom!\n"
     ]
    }
   ],
   "source": [
    "class Car:\n",
    "    rev = lambda self: print('Wroom!')\n",
    "    crash = lambda self: print('Boom!')\n",
    "\n",
    "my_car = Car()\n",
    "my_car.crash()"
   ]
  },
  {
   "cell_type": "markdown",
   "id": "838c86cb",
   "metadata": {},
   "source": [
    "I have similar feelings about complicated map() or filter() con-\n",
    "structs using lambdas. Usually it’s much cleaner to go with a list\n",
    "comprehension or generator expression:"
   ]
  },
  {
   "cell_type": "code",
   "execution_count": 45,
   "id": "860dd650",
   "metadata": {},
   "outputs": [
    {
     "data": {
      "text/plain": [
       "[0, 2, 4, 6, 8, 10, 12, 14]"
      ]
     },
     "execution_count": 45,
     "metadata": {},
     "output_type": "execute_result"
    }
   ],
   "source": [
    "# Harmful:\n",
    "list(filter(lambda x: x % 2 == 0, range(16)))"
   ]
  },
  {
   "cell_type": "code",
   "execution_count": 46,
   "id": "46316c22",
   "metadata": {},
   "outputs": [
    {
     "data": {
      "text/plain": [
       "[0, 2, 4, 6, 8, 10, 12, 14]"
      ]
     },
     "execution_count": 46,
     "metadata": {},
     "output_type": "execute_result"
    }
   ],
   "source": [
    "# Better:\n",
    "[x for x in range(16) if x % 2 == 0]"
   ]
  },
  {
   "cell_type": "markdown",
   "id": "e2c8e45c",
   "metadata": {},
   "source": [
    "### The Power of Decorators"
   ]
  },
  {
   "cell_type": "markdown",
   "id": "faa28800",
   "metadata": {},
   "source": [
    "Any sufficiently generic functionality you can tack on to an existing\n",
    "class or function’s behavior makes a great use case for decoration.\n",
    "This includes the following:\n",
    "- logging\n",
    "- enforcing access control and authentication\n",
    "- instrumentation and timing functions\n",
    "- rate-limiting\n",
    "- caching, and more"
   ]
  },
  {
   "cell_type": "markdown",
   "id": "7dfd3c36",
   "metadata": {},
   "source": [
    "#### Python Decorator Basics"
   ]
  },
  {
   "cell_type": "markdown",
   "id": "1acc395d",
   "metadata": {},
   "source": [
    "Now, what are decorators really? They “decorate” or “wrap” another\n",
    "function and let you execute code before and after the wrapped func-\n",
    "tion runs."
   ]
  },
  {
   "cell_type": "markdown",
   "id": "0fb7a38a",
   "metadata": {},
   "source": [
    "In\n",
    "basic terms, a decorator is a callable that takes a callable as input and\n",
    "returns another callable."
   ]
  },
  {
   "cell_type": "code",
   "execution_count": 47,
   "id": "e479a9bd",
   "metadata": {},
   "outputs": [],
   "source": [
    "def null_decorator(func):\n",
    "    return func"
   ]
  },
  {
   "cell_type": "markdown",
   "id": "a268eca6",
   "metadata": {},
   "source": [
    "As you can see, null_decorator is a callable (it’s a function), it takes\n",
    "another callable as its input, and it returns the same input callable\n",
    "without modifying it."
   ]
  },
  {
   "cell_type": "markdown",
   "id": "5c3be669",
   "metadata": {},
   "source": [
    "Let’s use it to decorate (or wrap) another function:"
   ]
  },
  {
   "cell_type": "code",
   "execution_count": 49,
   "id": "f77ae929",
   "metadata": {},
   "outputs": [
    {
     "data": {
      "text/plain": [
       "'Hello!'"
      ]
     },
     "execution_count": 49,
     "metadata": {},
     "output_type": "execute_result"
    }
   ],
   "source": [
    "def greet():\n",
    "    return 'Hello!'\n",
    "\n",
    "greet = null_decorator(greet)\n",
    "greet()"
   ]
  },
  {
   "cell_type": "code",
   "execution_count": 50,
   "id": "b6235aaa",
   "metadata": {},
   "outputs": [
    {
     "data": {
      "text/plain": [
       "'Hello!'"
      ]
     },
     "execution_count": 50,
     "metadata": {},
     "output_type": "execute_result"
    }
   ],
   "source": [
    "@null_decorator\n",
    "def greet():\n",
    "    return 'Hello!'\n",
    "\n",
    "greet()"
   ]
  },
  {
   "cell_type": "markdown",
   "id": "c0ca28e5",
   "metadata": {},
   "source": [
    "Here’s a slightly more complex decorator which converts the result of\n",
    "the decorated function to uppercase letters:"
   ]
  },
  {
   "cell_type": "code",
   "execution_count": 54,
   "id": "1ad52705",
   "metadata": {},
   "outputs": [
    {
     "data": {
      "text/plain": [
       "'HELLO!'"
      ]
     },
     "execution_count": 54,
     "metadata": {},
     "output_type": "execute_result"
    }
   ],
   "source": [
    "def uppercase(func):\n",
    "    def wrapper():\n",
    "        original_result = func()\n",
    "        modified_result = original_result.upper()\n",
    "        return modified_result\n",
    "    return wrapper\n",
    "\n",
    "@uppercase\n",
    "def greet():\n",
    "    return 'Hello!'\n",
    "greet()"
   ]
  },
  {
   "cell_type": "code",
   "execution_count": 61,
   "id": "18c929cb",
   "metadata": {},
   "outputs": [
    {
     "ename": "TypeError",
     "evalue": "'str' object is not callable",
     "output_type": "error",
     "traceback": [
      "\u001b[0;31m---------------------------------------------------------------------------\u001b[0m",
      "\u001b[0;31mTypeError\u001b[0m                                 Traceback (most recent call last)",
      "\u001b[0;32m/tmp/ipykernel_4247/1405544791.py\u001b[0m in \u001b[0;36m<module>\u001b[0;34m\u001b[0m\n\u001b[1;32m      6\u001b[0m \u001b[0;32mdef\u001b[0m \u001b[0mgreet\u001b[0m\u001b[0;34m(\u001b[0m\u001b[0;34m)\u001b[0m\u001b[0;34m:\u001b[0m\u001b[0;34m\u001b[0m\u001b[0;34m\u001b[0m\u001b[0m\n\u001b[1;32m      7\u001b[0m     \u001b[0;32mreturn\u001b[0m \u001b[0;34m'Hello!'\u001b[0m\u001b[0;34m\u001b[0m\u001b[0;34m\u001b[0m\u001b[0m\n\u001b[0;32m----> 8\u001b[0;31m \u001b[0mgreet\u001b[0m\u001b[0;34m(\u001b[0m\u001b[0;34m)\u001b[0m\u001b[0;34m\u001b[0m\u001b[0;34m\u001b[0m\u001b[0m\n\u001b[0m",
      "\u001b[0;31mTypeError\u001b[0m: 'str' object is not callable"
     ]
    }
   ],
   "source": [
    "def uppercase(func):\n",
    "    modified_result = func().upper()\n",
    "    return modified_result\n",
    "\n",
    "@uppercase\n",
    "def greet():\n",
    "    return 'Hello!'\n",
    "greet()"
   ]
  },
  {
   "cell_type": "code",
   "execution_count": 63,
   "id": "3cb2912d",
   "metadata": {},
   "outputs": [
    {
     "data": {
      "text/plain": [
       "'<strong><em>Hello!</em></strong>'"
      ]
     },
     "execution_count": 63,
     "metadata": {},
     "output_type": "execute_result"
    }
   ],
   "source": [
    "def strong(func):\n",
    "    def wrapper():\n",
    "        return '<strong>' + func() + '</strong>'\n",
    "    return wrapper\n",
    "\n",
    "def emphasis(func):\n",
    "    def wrapper():\n",
    "        return '<em>' + func() + '</em>'\n",
    "    return wrapper\n",
    "\n",
    "@strong\n",
    "@emphasis\n",
    "def greet():\n",
    "    return 'Hello!'\n",
    "\n",
    "greet()"
   ]
  },
  {
   "cell_type": "markdown",
   "id": "79419086",
   "metadata": {},
   "source": [
    "This clearly shows in what order the decorators were applied: from\n",
    "bottom to top. First, the input function was wrapped by the @emphasis\n",
    "decorator, and then the resulting (decorated) function got wrapped\n",
    "again by the @strong decorator.\n",
    "\n",
    "To help me remember this bottom to top order, I like to call this be-\n",
    "havior decorator stacking. You start building the stack at the bottom\n",
    "and then keep adding new blocks on top to work your way upwards.\n",
    "\n",
    "If you break down the above example and avoid the @ syntax to apply\n",
    "the decorators, the chain of decorator function calls looks like this:"
   ]
  },
  {
   "cell_type": "code",
   "execution_count": 64,
   "id": "50ac6ec2",
   "metadata": {},
   "outputs": [],
   "source": [
    "decorated_greet = strong(emphasis(greet))"
   ]
  },
  {
   "cell_type": "markdown",
   "id": "c26b600e",
   "metadata": {},
   "source": [
    "As a best practice, I’d recommend that you use functools.wraps in\n",
    "all of the decorators you write yourself. It doesn’t take much time and\n",
    "it will save you (and others) debugging headaches down the road."
   ]
  },
  {
   "cell_type": "code",
   "execution_count": null,
   "id": "b827449f",
   "metadata": {},
   "outputs": [],
   "source": [
    "import functools\n",
    "\n",
    "def uppercase(func):\n",
    "    @functools.wraps(func)\n",
    "    def wrapper():\n",
    "        return func().upper()\n",
    "    return wrapper"
   ]
  },
  {
   "cell_type": "markdown",
   "id": "b5962965",
   "metadata": {},
   "source": [
    "### Fun With *args and **kwargs"
   ]
  },
  {
   "cell_type": "markdown",
   "id": "30eb0e28",
   "metadata": {},
   "source": [
    "So what are *args and **kwargs parameters used for? They allow a\n",
    "function to accept optional arguments, so you can create flexible APIs\n",
    "in your modules and classes:"
   ]
  },
  {
   "cell_type": "code",
   "execution_count": null,
   "id": "5ad70f9b",
   "metadata": {},
   "outputs": [],
   "source": [
    "def foo(required, *args, **kwargs):\n",
    "    print(required)\n",
    "    if args:\n",
    "        print(args)\n",
    "    if kwargs:\n",
    "        print(kwargs)"
   ]
  },
  {
   "cell_type": "code",
   "execution_count": null,
   "id": "80b919ab",
   "metadata": {},
   "outputs": [],
   "source": []
  },
  {
   "cell_type": "code",
   "execution_count": null,
   "id": "36be94a8",
   "metadata": {},
   "outputs": [],
   "source": []
  },
  {
   "cell_type": "code",
   "execution_count": null,
   "id": "a615f141",
   "metadata": {},
   "outputs": [],
   "source": []
  },
  {
   "cell_type": "code",
   "execution_count": null,
   "id": "234a59be",
   "metadata": {},
   "outputs": [],
   "source": []
  },
  {
   "cell_type": "code",
   "execution_count": null,
   "id": "8bca93a9",
   "metadata": {},
   "outputs": [],
   "source": []
  },
  {
   "cell_type": "code",
   "execution_count": null,
   "id": "72d82518",
   "metadata": {},
   "outputs": [],
   "source": []
  },
  {
   "cell_type": "code",
   "execution_count": null,
   "id": "759258c1",
   "metadata": {},
   "outputs": [],
   "source": []
  },
  {
   "cell_type": "code",
   "execution_count": null,
   "id": "9f82c958",
   "metadata": {},
   "outputs": [],
   "source": []
  }
 ],
 "metadata": {
  "kernelspec": {
   "display_name": "Python 3 (ipykernel)",
   "language": "python",
   "name": "python3"
  },
  "language_info": {
   "codemirror_mode": {
    "name": "ipython",
    "version": 3
   },
   "file_extension": ".py",
   "mimetype": "text/x-python",
   "name": "python",
   "nbconvert_exporter": "python",
   "pygments_lexer": "ipython3",
   "version": "3.9.13"
  }
 },
 "nbformat": 4,
 "nbformat_minor": 5
}
